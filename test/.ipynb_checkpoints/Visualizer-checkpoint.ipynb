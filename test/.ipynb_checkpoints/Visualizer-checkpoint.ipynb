{
 "cells": [
  {
   "cell_type": "code",
   "execution_count": 1,
   "metadata": {
    "collapsed": false
   },
   "outputs": [
    {
     "data": {
      "application/javascript": [
       "\n",
       "require(['notebook'],\n",
       "  function() {\n",
       "    IPython.CodeCell.config_defaults.highlight_modes['magic_text/x-c++src'] = {'reg':[/^%%cpp/]};\n",
       "    console.log(\"JupyROOT - %%cpp magic configured\");\n",
       "  }\n",
       ");\n"
      ]
     },
     "metadata": {},
     "output_type": "display_data"
    },
    {
     "name": "stdout",
     "output_type": "stream",
     "text": [
      "Welcome to JupyROOT 6.09/01\n"
     ]
    }
   ],
   "source": [
    "import ROOT"
   ]
  },
  {
   "cell_type": "code",
   "execution_count": 2,
   "metadata": {
    "collapsed": false
   },
   "outputs": [],
   "source": [
    "f = ROOT.TFile(\"output.root\")"
   ]
  },
  {
   "cell_type": "code",
   "execution_count": 3,
   "metadata": {
    "collapsed": true
   },
   "outputs": [],
   "source": [
    "tree = f.Get(\"tree\")"
   ]
  },
  {
   "cell_type": "code",
   "execution_count": 12,
   "metadata": {
    "collapsed": false
   },
   "outputs": [],
   "source": [
    "tb1 = tree.GetBranch(\"a\")\n",
    "tb2 = tree.GetBranch(\"b\")"
   ]
  },
  {
   "cell_type": "code",
   "execution_count": 5,
   "metadata": {
    "collapsed": false
   },
   "outputs": [
    {
     "data": {
      "text/plain": [
       "0L"
      ]
     },
     "execution_count": 5,
     "metadata": {},
     "output_type": "execute_result"
    }
   ],
   "source": [
    "ROOT.gROOT.ProcessLine(\n",
    "\"struct bobo {\\\n",
    "    Float_t bobo1;\\\n",
    "    Int_t bobo2;\\\n",
    "    Float_t bobo3;\\\n",
    "}\" )\n",
    "ROOT.gROOT.ProcessLine(\n",
    "\"struct pp {\\\n",
    "    Float_t bobo1;\\\n",
    "    Int_t bobo2[4];\\\n",
    "    Float_t bobo3;\\\n",
    "}\" )"
   ]
  },
  {
   "cell_type": "code",
   "execution_count": 6,
   "metadata": {
    "collapsed": false
   },
   "outputs": [],
   "source": [
    "bobo_t = ROOT.bobo()"
   ]
  },
  {
   "cell_type": "code",
   "execution_count": 7,
   "metadata": {
    "collapsed": false
   },
   "outputs": [],
   "source": [
    "#tree.SetBranchAddress('a',ROOT.AddressOf(bobo_t,'bobo1'))"
   ]
  },
  {
   "cell_type": "code",
   "execution_count": 8,
   "metadata": {
    "collapsed": false
   },
   "outputs": [],
   "source": [
    "tb1.SetAddress(ROOT.AddressOf(bobo_t,'bobo1'))"
   ]
  },
  {
   "cell_type": "code",
   "execution_count": 9,
   "metadata": {
    "collapsed": false
   },
   "outputs": [
    {
     "data": {
      "text/plain": [
       "12"
      ]
     },
     "execution_count": 9,
     "metadata": {},
     "output_type": "execute_result"
    }
   ],
   "source": [
    "tb1.GetEntry(10)"
   ]
  },
  {
   "cell_type": "code",
   "execution_count": 10,
   "metadata": {
    "collapsed": false
   },
   "outputs": [
    {
     "data": {
      "text/plain": [
       "10.0"
      ]
     },
     "execution_count": 10,
     "metadata": {},
     "output_type": "execute_result"
    }
   ],
   "source": [
    "bobo_t.bobo1"
   ]
  },
  {
   "cell_type": "code",
   "execution_count": 11,
   "metadata": {
    "collapsed": true
   },
   "outputs": [],
   "source": [
    "pp_t = ROOT.pp()"
   ]
  },
  {
   "cell_type": "code",
   "execution_count": 13,
   "metadata": {
    "collapsed": true
   },
   "outputs": [],
   "source": [
    "tb2.SetAddress(ROOT.AddressOf(pp_t,'bobo1'))"
   ]
  },
  {
   "cell_type": "code",
   "execution_count": 21,
   "metadata": {
    "collapsed": false
   },
   "outputs": [
    {
     "name": "stdout",
     "output_type": "stream",
     "text": [
      "0 0.0 0 0 0 0.0\n",
      "1 1.0 0 1 2 0.0174524057657\n",
      "2 2.0 0 2 4 0.0697564706206\n",
      "3 3.0 0 3 6 0.156434461474\n",
      "4 4.0 0 4 8 0.275637358427\n",
      "5 5.0 0 5 10 0.42261826992\n",
      "6 6.0 0 6 12 0.587785243988\n",
      "7 7.0 0 7 14 0.754709601402\n",
      "8 8.0 0 8 16 0.898794054985\n",
      "9 9.0 0 9 18 0.987688362598\n",
      "10 10.0 0 10 20 0.984807729721\n",
      "11 11.0 0 11 22 0.857167303562\n",
      "12 12.0 0 12 24 0.587785243988\n",
      "13 13.0 0 13 26 0.190808996558\n",
      "14 14.0 0 14 28 -0.275637358427\n",
      "15 15.0 0 15 30 -0.707106769085\n",
      "16 16.0 0 16 32 -0.970295727253\n",
      "17 17.0 0 17 34 -0.945518553257\n",
      "18 18.0 0 18 36 -0.587785243988\n",
      "19 19.0 0 19 38 0.0174524057657\n",
      "20 20.0 0 20 40 0.642787635326\n",
      "21 21.0 0 21 42 0.987688362598\n",
      "22 22.0 0 22 44 0.829037547112\n",
      "23 23.0 0 23 46 0.190808996558\n",
      "24 24.0 0 24 48 -0.587785243988\n",
      "25 25.0 0 25 50 -0.996194720268\n",
      "26 26.0 0 26 52 -0.694658398628\n",
      "27 27.0 0 27 54 0.156434461474\n",
      "28 28.0 0 28 56 0.898794054985\n",
      "29 29.0 0 29 58 0.857167303562\n",
      "30 30.0 0 30 60 6.12323399823e-16\n",
      "31 31.0 0 31 62 -0.874619722366\n",
      "32 32.0 0 32 64 -0.829037547112\n",
      "33 33.0 0 33 66 0.156434461474\n",
      "34 34.0 0 34 68 0.970295727253\n",
      "35 35.0 0 35 70 0.573576450348\n",
      "36 36.0 0 36 72 -0.587785243988\n",
      "37 37.0 0 37 74 -0.945518553257\n",
      "38 38.0 0 38 76 0.0697564706206\n",
      "39 39.0 0 39 78 0.987688362598\n",
      "40 40.0 0 40 80 0.342020153999\n",
      "41 41.0 0 41 82 -0.874619722366\n",
      "42 42.0 0 42 84 -0.587785243988\n",
      "43 43.0 0 43 86 0.754709601402\n",
      "44 44.0 0 44 88 0.694658398628\n",
      "45 45.0 0 45 90 -0.707106769085\n",
      "46 46.0 0 46 92 -0.694658398628\n",
      "47 47.0 0 47 94 0.754709601402\n",
      "48 48.0 0 48 96 0.587785243988\n",
      "49 49.0 0 49 98 -0.874619722366\n",
      "50 50.0 0 50 100 -0.342020153999\n",
      "51 51.0 0 51 102 0.987688362598\n",
      "52 52.0 0 52 104 -0.0697564706206\n",
      "53 53.0 0 53 106 -0.945518553257\n",
      "54 54.0 0 54 108 0.587785243988\n",
      "55 55.0 0 55 110 0.573576450348\n",
      "56 56.0 0 56 112 -0.970295727253\n",
      "57 57.0 0 57 114 0.156434461474\n",
      "58 58.0 0 58 116 0.829037547112\n",
      "59 59.0 0 59 118 -0.874619722366\n",
      "60 60.0 0 60 120 -2.44929359929e-15\n",
      "61 61.0 0 61 122 0.857167303562\n",
      "62 62.0 0 62 124 -0.898794054985\n",
      "63 63.0 0 63 126 0.156434461474\n"
     ]
    }
   ],
   "source": [
    "for i in range(tb2.GetEntries()):\n",
    "    tb2.GetEntry(i)\n",
    "    print i,pp_t.bobo1,pp_t.bobo2[0],pp_t.bobo2[1],pp_t.bobo2[2],pp_t.bobo3"
   ]
  },
  {
   "cell_type": "code",
   "execution_count": null,
   "metadata": {
    "collapsed": true
   },
   "outputs": [],
   "source": []
  }
 ],
 "metadata": {
  "anaconda-cloud": {},
  "kernelspec": {
   "display_name": "Python [conda root]",
   "language": "python",
   "name": "conda-root-py"
  },
  "language_info": {
   "codemirror_mode": {
    "name": "ipython",
    "version": 2
   },
   "file_extension": ".py",
   "mimetype": "text/x-python",
   "name": "python",
   "nbconvert_exporter": "python",
   "pygments_lexer": "ipython2",
   "version": "2.7.12"
  }
 },
 "nbformat": 4,
 "nbformat_minor": 1
}
