{
 "cells": [
  {
   "cell_type": "code",
   "execution_count": 2,
   "metadata": {
    "collapsed": false
   },
   "outputs": [
    {
     "data": {
      "application/javascript": [
       "\n",
       "require(['notebook'],\n",
       "  function() {\n",
       "    IPython.CodeCell.config_defaults.highlight_modes['magic_text/x-c++src'] = {'reg':[/^%%cpp/]};\n",
       "    console.log(\"JupyROOT - %%cpp magic configured\");\n",
       "  }\n",
       ");\n"
      ]
     },
     "metadata": {},
     "output_type": "display_data"
    },
    {
     "name": "stdout",
     "output_type": "stream",
     "text": [
      "Welcome to JupyROOT 6.09/01\n"
     ]
    }
   ],
   "source": [
    "import ROOT"
   ]
  },
  {
   "cell_type": "code",
   "execution_count": 3,
   "metadata": {
    "collapsed": false
   },
   "outputs": [],
   "source": [
    "f = ROOT.TFile(\"output.root\")"
   ]
  },
  {
   "cell_type": "code",
   "execution_count": 4,
   "metadata": {
    "collapsed": true
   },
   "outputs": [],
   "source": [
    "tree = f.Get(\"tree\")"
   ]
  },
  {
   "cell_type": "code",
   "execution_count": 5,
   "metadata": {
    "collapsed": false
   },
   "outputs": [],
   "source": [
    "tb0 = tree.GetBranch(\"Pad\")\n",
    "tb1 = tree.GetBranch(\"PSA\")\n",
    "tb2 = tree.GetBranch(\"Hit\")"
   ]
  },
  {
   "cell_type": "code",
   "execution_count": 6,
   "metadata": {
    "collapsed": false
   },
   "outputs": [
    {
     "data": {
      "text/plain": [
       "0L"
      ]
     },
     "execution_count": 6,
     "metadata": {},
     "output_type": "execute_result"
    }
   ],
   "source": [
    "ROOT.gROOT.ProcessLine(\n",
    "\"struct tbjcPad\\\n",
    "{\\\n",
    "    int EventNum;\\\n",
    "    int PadNum;\\\n",
    "    float PadX;\\\n",
    "    float PadY;\\\n",
    "    int IsValid;\\\n",
    "    int RawAdc[512];\\\n",
    "    int MaxAdcIdx;\\\n",
    "    int IsPedestalSubtracted;\\\n",
    "    float Adc[512];\\\n",
    "    int IsAux;\\\n",
    "};\" )\n",
    "ROOT.gROOT.ProcessLine(\n",
    "\"struct tbjcPSA\\\n",
    "{\\\n",
    "    int EventNum;\\\n",
    "    float mesh[512];\\\n",
    "    float RhoVariance;\\\n",
    "    float QEventTot;\\\n",
    "};\" )\n",
    "ROOT.gROOT.ProcessLine(\n",
    "\"struct tbjcHit\\\n",
    "{\\\n",
    "    int EventNum;\\\n",
    "    int PadNum;\\\n",
    "    int hitNum;\\\n",
    "    float x;\\\n",
    "    float y;\\\n",
    "    float z;\\\n",
    "    float charge;\\\n",
    "};\" )\n"
   ]
  },
  {
   "cell_type": "code",
   "execution_count": 7,
   "metadata": {
    "collapsed": false
   },
   "outputs": [],
   "source": [
    "tbjcPadReg = ROOT.tbjcPad()\n",
    "tbjcPSAReg = ROOT.tbjcPSA()\n",
    "tbjcHitReg = ROOT.tbjcHit()"
   ]
  },
  {
   "cell_type": "code",
   "execution_count": 9,
   "metadata": {
    "collapsed": false
   },
   "outputs": [],
   "source": [
    "tb0.SetAddress(ROOT.AddressOf(tbjcPadReg,'EventNum'))\n",
    "tb1.SetAddress(ROOT.AddressOf(tbjcPSAReg,'EventNum'))\n",
    "tb2.SetAddress(ROOT.AddressOf(tbjcHitReg,'EventNum'))"
   ]
  },
  {
   "cell_type": "code",
   "execution_count": 15,
   "metadata": {
    "collapsed": false
   },
   "outputs": [
    {
     "name": "stdout",
     "output_type": "stream",
     "text": [
      "0 pos:(-43.480000,42.348598)\n",
      "1 pos:(-40.510101,-39.378799)\n",
      "2 pos:(-44.788101,-43.656799)\n",
      "3 pos:(-40.510101,39.378799)\n",
      "4 pos:(-44.788101,43.656799)\n",
      "5 pos:(-41.818298,-40.686901)\n",
      "6 pos:(-46.449799,-45.318501)\n",
      "7 pos:(-41.818298,40.686901)\n",
      "8 pos:(-49.419701,-48.288300)\n",
      "9 pos:(-43.480000,-42.348598)\n"
     ]
    }
   ],
   "source": [
    "num = tb0.GetEntries()\n",
    "for i in range(10):\n",
    "    tb0.GetEntry(i)\n",
    "    print(\"%i pos:(%f,%f)\" %  (i,tbjcPadReg.PadX,tbjcPadReg.PadY))"
   ]
  },
  {
   "cell_type": "code",
   "execution_count": 10,
   "metadata": {
    "collapsed": false
   },
   "outputs": [
    {
     "data": {
      "text/plain": [
       "100"
      ]
     },
     "execution_count": 10,
     "metadata": {},
     "output_type": "execute_result"
    }
   ],
   "source": [
    "tb1.GetEntry(100)\n",
    "tbjcPSAReg.EventNum"
   ]
  },
  {
   "cell_type": "code",
   "execution_count": null,
   "metadata": {
    "collapsed": true
   },
   "outputs": [],
   "source": [
    "tb2.SetAddress(ROOT.AddressOf(pp_t,'bobo1'))"
   ]
  },
  {
   "cell_type": "code",
   "execution_count": null,
   "metadata": {
    "collapsed": false
   },
   "outputs": [],
   "source": [
    "for i in range(tb2.GetEntries()):\n",
    "    tb2.GetEntry(i)\n",
    "    print i,pp_t.bobo1,pp_t.bobo2[0],pp_t.bobo2[1],pp_t.bobo2[2],pp_t.bobo3"
   ]
  },
  {
   "cell_type": "code",
   "execution_count": null,
   "metadata": {
    "collapsed": true
   },
   "outputs": [],
   "source": []
  }
 ],
 "metadata": {
  "anaconda-cloud": {},
  "kernelspec": {
   "display_name": "Python [conda root]",
   "language": "python",
   "name": "conda-root-py"
  },
  "language_info": {
   "codemirror_mode": {
    "name": "ipython",
    "version": 2
   },
   "file_extension": ".py",
   "mimetype": "text/x-python",
   "name": "python",
   "nbconvert_exporter": "python",
   "pygments_lexer": "ipython2",
   "version": "2.7.12"
  }
 },
 "nbformat": 4,
 "nbformat_minor": 1
}
