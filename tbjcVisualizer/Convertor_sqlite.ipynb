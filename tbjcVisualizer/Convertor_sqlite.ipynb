{
 "cells": [
  {
   "cell_type": "code",
   "execution_count": null,
   "metadata": {
    "collapsed": false
   },
   "outputs": [],
   "source": [
    "from sqlalchemy import *\n",
    "import ROOT\n",
    "import numpy as np\n",
    "import pylab as plt\n",
    "%matplotlib inline"
   ]
  },
  {
   "cell_type": "code",
   "execution_count": null,
   "metadata": {
    "collapsed": true
   },
   "outputs": [],
   "source": [
    "import time\n",
    "start_time = time.time()"
   ]
  },
  {
   "cell_type": "code",
   "execution_count": null,
   "metadata": {
    "collapsed": false
   },
   "outputs": [],
   "source": [
    "engine = create_engine('sqlite+pysqlite:///testbobo.db')"
   ]
  },
  {
   "cell_type": "code",
   "execution_count": null,
   "metadata": {
    "collapsed": false
   },
   "outputs": [],
   "source": [
    "import model\n",
    "from sqlalchemy import orm"
   ]
  },
  {
   "cell_type": "code",
   "execution_count": null,
   "metadata": {
    "collapsed": false
   },
   "outputs": [],
   "source": [
    "model.metadata.bind = engine\n",
    "model.metadata.create_all()\n",
    "\n",
    "# Set up the session\n",
    "sm = orm.sessionmaker(bind=engine, autoflush=True, autocommit=False,\n",
    "    expire_on_commit=True)\n",
    "session = orm.scoped_session(sm)"
   ]
  },
  {
   "cell_type": "code",
   "execution_count": null,
   "metadata": {
    "collapsed": false
   },
   "outputs": [],
   "source": [
    "with open(\"proto.map\") as f:\n",
    "\n",
    "    for line in f:\n",
    "        padnum,padname,padx,pady,binnum = line.strip().split()\n",
    "        padnum,padname,padx,pady,binnum = int(padnum),padname,float(padx),float(pady),int(binnum)\n",
    "    \n",
    "        PadMap = model.ProtoMap()\n",
    "        PadMap.PadNum = padnum\n",
    "        PadMap.PadName = padname\n",
    "        PadMap.PadX = padx\n",
    "        PadMap.PadY = pady\n",
    "        PadMap.BinNum = binnum\n",
    "        session.add(PadMap)\n",
    "    session.commit()"
   ]
  },
  {
   "cell_type": "code",
   "execution_count": null,
   "metadata": {
    "collapsed": false
   },
   "outputs": [],
   "source": [
    "ROOT.gROOT.ProcessLine(\n",
    "\"struct tbjcPad\\\n",
    "{\\\n",
    "    int EventNum;\\\n",
    "    int PadNum;\\\n",
    "    float PadX;\\\n",
    "    float PadY;\\\n",
    "    int IsValid;\\\n",
    "    int RawAdc[512];\\\n",
    "    int MaxAdcIdx;\\\n",
    "    int IsPedestalSubtracted;\\\n",
    "    float Adc[512];\\\n",
    "    int IsAux;\\\n",
    "};\" )\n",
    "ROOT.gROOT.ProcessLine(\n",
    "\"struct tbjcPSA\\\n",
    "{\\\n",
    "    int EventNum;\\\n",
    "    float mesh[512];\\\n",
    "    float RhoVariance;\\\n",
    "    float QEventTot;\\\n",
    "};\" )\n",
    "ROOT.gROOT.ProcessLine(\n",
    "\"struct tbjcHit\\\n",
    "{\\\n",
    "    int EventNum;\\\n",
    "    int PadNum;\\\n",
    "    int hitNum;\\\n",
    "    float x;\\\n",
    "    float y;\\\n",
    "    float z;\\\n",
    "    float charge;\\\n",
    "};\" )"
   ]
  },
  {
   "cell_type": "code",
   "execution_count": null,
   "metadata": {
    "collapsed": false
   },
   "outputs": [],
   "source": [
    "f = ROOT.TFile(\"output.root\")\n",
    "tree = f.Get(\"tree\")\n",
    "tb0 = tree.GetBranch(\"Pad\")\n",
    "tb1 = tree.GetBranch(\"PSA\")\n",
    "tb2 = tree.GetBranch(\"Hit\")\n",
    "\n",
    "tbjcPadReg = ROOT.tbjcPad()\n",
    "tbjcPSAReg = ROOT.tbjcPSA()\n",
    "tbjcHitReg = ROOT.tbjcHit()\n",
    "\n",
    "tb0.SetAddress(ROOT.AddressOf(tbjcPadReg,'EventNum'))\n",
    "tb1.SetAddress(ROOT.AddressOf(tbjcPSAReg,'EventNum'))\n",
    "tb2.SetAddress(ROOT.AddressOf(tbjcHitReg,'EventNum'))"
   ]
  },
  {
   "cell_type": "code",
   "execution_count": null,
   "metadata": {
    "collapsed": false
   },
   "outputs": [],
   "source": [
    "TB = 512\n",
    "for i in xrange(tb0.GetEntries()):\n",
    "    \n",
    "    if i % 100 == 0:\n",
    "        print i\n",
    "    \n",
    "    tb0.GetEntry(i)\n",
    "    RawADC = model.RawADC()\n",
    "    #RawADC.ID = i\n",
    "    RawADC.EventID = tbjcPadReg.EventNum\n",
    "    RawADC.PadNum = tbjcPadReg.PadNum\n",
    "    \n",
    "    for j in range(TB):\n",
    "        setattr(RawADC, 't'+str(j), tbjcPadReg.RawAdc[j])\n",
    "    session.add(RawADC)\n",
    "    \n",
    "    ADC = model.ADC()\n",
    "    #ADC.ID = i\n",
    "    ADC.EventID = tbjcPadReg.EventNum\n",
    "    ADC.PadNum = tbjcPadReg.PadNum\n",
    "    for j in range(TB):\n",
    "        setattr(ADC, 't'+str(j), tbjcPadReg.Adc[j])\n",
    "    session.add(ADC)\n",
    "    \n",
    "    #session.flush()\n",
    "    session.commit()\n"
   ]
  },
  {
   "cell_type": "code",
   "execution_count": null,
   "metadata": {
    "collapsed": false
   },
   "outputs": [],
   "source": [
    "TB = 512\n",
    "for i in xrange(tb1.GetEntries()):\n",
    "    if i % 100 == 0:\n",
    "        print i\n",
    "    tb1.GetEntry(i)\n",
    "    PSA = model.PSA()\n",
    "    #PSA.ID = i\n",
    "    PSA.EventID = tbjcPSAReg.EventNum\n",
    "    PSA.QEventTot = tbjcPSAReg.QEventTot\n",
    "    \n",
    "    for j in range(TB):\n",
    "        setattr(PSA, 'mesh'+str(j), tbjcPSAReg.mesh[j])\n",
    "    session.add(PSA)\n",
    "    \n",
    "    #session.flush()\n",
    "    session.commit()"
   ]
  },
  {
   "cell_type": "code",
   "execution_count": null,
   "metadata": {
    "collapsed": true
   },
   "outputs": [],
   "source": [
    "\n",
    "for i in xrange(tb2.GetEntries()):\n",
    "    if i % 100 == 0:\n",
    "        print i\n",
    "    tb2.GetEntry(i)\n",
    "    Hit = model.Hit()\n",
    "    #Hit.ID = i\n",
    "    Hit.EventID = tbjcHitReg.EventNum\n",
    "    Hit.PadNum = tbjcHitReg.PadNum\n",
    "    Hit.x = tbjcHitReg.x\n",
    "    Hit.y = tbjcHitReg.y\n",
    "    Hit.z = tbjcHitReg.z\n",
    "    Hit.charge = tbjcHitReg.charge\n",
    "\n",
    "    session.add(Hit)\n",
    "    \n",
    "    #session.flush()\n",
    "    session.commit()"
   ]
  },
  {
   "cell_type": "code",
   "execution_count": null,
   "metadata": {
    "collapsed": true
   },
   "outputs": [],
   "source": [
    "end_time = time.time()"
   ]
  },
  {
   "cell_type": "code",
   "execution_count": null,
   "metadata": {
    "collapsed": false
   },
   "outputs": [],
   "source": [
    "print end_time - start_time"
   ]
  }
 ],
 "metadata": {
  "kernelspec": {
   "display_name": "Python 2",
   "language": "python",
   "name": "python2"
  },
  "language_info": {
   "codemirror_mode": {
    "name": "ipython",
    "version": 2
   },
   "file_extension": ".py",
   "mimetype": "text/x-python",
   "name": "python",
   "nbconvert_exporter": "python",
   "pygments_lexer": "ipython2",
   "version": "2.7.13"
  }
 },
 "nbformat": 4,
 "nbformat_minor": 2
}
