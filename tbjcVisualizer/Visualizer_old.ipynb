{
 "cells": [
  {
   "cell_type": "code",
   "execution_count": 1,
   "metadata": {
    "collapsed": false
   },
   "outputs": [
    {
     "data": {
      "application/javascript": [
       "\n",
       "require(['notebook'],\n",
       "  function() {\n",
       "    IPython.CodeCell.config_defaults.highlight_modes['magic_text/x-c++src'] = {'reg':[/^%%cpp/]};\n",
       "    console.log(\"JupyROOT - %%cpp magic configured\");\n",
       "  }\n",
       ");\n"
      ]
     },
     "metadata": {},
     "output_type": "display_data"
    },
    {
     "name": "stdout",
     "output_type": "stream",
     "text": [
      "Welcome to JupyROOT 6.08/00\n"
     ]
    }
   ],
   "source": [
    "import ROOT"
   ]
  },
  {
   "cell_type": "code",
   "execution_count": 2,
   "metadata": {
    "collapsed": false
   },
   "outputs": [],
   "source": [
    "f = ROOT.TFile(\"output.root\")"
   ]
  },
  {
   "cell_type": "code",
   "execution_count": 3,
   "metadata": {
    "collapsed": true
   },
   "outputs": [],
   "source": [
    "tree = f.Get(\"tree\")"
   ]
  },
  {
   "cell_type": "code",
   "execution_count": 4,
   "metadata": {
    "collapsed": false
   },
   "outputs": [],
   "source": [
    "tb0 = tree.GetBranch(\"Pad\")\n",
    "tb1 = tree.GetBranch(\"PSA\")\n",
    "tb2 = tree.GetBranch(\"Hit\")"
   ]
  },
  {
   "cell_type": "code",
   "execution_count": 5,
   "metadata": {
    "collapsed": false
   },
   "outputs": [
    {
     "data": {
      "text/plain": [
       "0L"
      ]
     },
     "execution_count": 5,
     "metadata": {},
     "output_type": "execute_result"
    }
   ],
   "source": [
    "ROOT.gROOT.ProcessLine(\n",
    "\"struct tbjcPad\\\n",
    "{\\\n",
    "    int EventNum;\\\n",
    "    int PadNum;\\\n",
    "    float PadX;\\\n",
    "    float PadY;\\\n",
    "    int IsValid;\\\n",
    "    int RawAdc[512];\\\n",
    "    int MaxAdcIdx;\\\n",
    "    int IsPedestalSubtracted;\\\n",
    "    float Adc[512];\\\n",
    "    int IsAux;\\\n",
    "};\" )\n",
    "ROOT.gROOT.ProcessLine(\n",
    "\"struct tbjcPSA\\\n",
    "{\\\n",
    "    int EventNum;\\\n",
    "    float mesh[512];\\\n",
    "    float RhoVariance;\\\n",
    "    float QEventTot;\\\n",
    "};\" )\n",
    "ROOT.gROOT.ProcessLine(\n",
    "\"struct tbjcHit\\\n",
    "{\\\n",
    "    int EventNum;\\\n",
    "    int PadNum;\\\n",
    "    int hitNum;\\\n",
    "    float x;\\\n",
    "    float y;\\\n",
    "    float z;\\\n",
    "    float charge;\\\n",
    "};\" )\n"
   ]
  },
  {
   "cell_type": "code",
   "execution_count": 6,
   "metadata": {
    "collapsed": false
   },
   "outputs": [],
   "source": [
    "tbjcPadReg = ROOT.tbjcPad()\n",
    "tbjcPSAReg = ROOT.tbjcPSA()\n",
    "tbjcHitReg = ROOT.tbjcHit()"
   ]
  },
  {
   "cell_type": "code",
   "execution_count": 7,
   "metadata": {
    "collapsed": false
   },
   "outputs": [],
   "source": [
    "tb0.SetAddress(ROOT.AddressOf(tbjcPadReg,'EventNum'))\n",
    "tb1.SetAddress(ROOT.AddressOf(tbjcPSAReg,'EventNum'))\n",
    "tb2.SetAddress(ROOT.AddressOf(tbjcHitReg,'EventNum'))"
   ]
  },
  {
   "cell_type": "code",
   "execution_count": 8,
   "metadata": {
    "collapsed": false
   },
   "outputs": [
    {
     "name": "stdout",
     "output_type": "stream",
     "text": [
      "######0######\n",
      "(0, 0, 97, 0, -20.700000762939453)\n",
      "(1, 0, 97, 0, -0.699999988079071)\n",
      "(2, 0, 97, 0, 2.299999952316284)\n",
      "######1######\n",
      "(0, 0, 158, 0, -12.600000381469727)\n",
      "(1, 0, 158, 0, 0.4000000059604645)\n",
      "(2, 0, 158, 0, -1.600000023841858)\n",
      "######2######\n",
      "(0, 0, 161, 0, -13.600000381469727)\n",
      "(1, 0, 161, 0, -2.5999999046325684)\n",
      "(2, 0, 161, 0, -1.600000023841858)\n",
      "######3######\n",
      "(0, 0, 95, 0, -10.0)\n",
      "(1, 0, 95, 0, 0.0)\n",
      "(2, 0, 95, 0, -1.0)\n",
      "######4######\n",
      "(0, 0, 98, 0, -9.699999809265137)\n",
      "(1, 0, 98, 0, -0.699999988079071)\n",
      "(2, 0, 98, 0, -3.700000047683716)\n",
      "######5######\n",
      "(0, 0, 159, 0, -6.900000095367432)\n",
      "(1, 0, 159, 0, -1.899999976158142)\n",
      "(2, 0, 159, 0, -1.899999976158142)\n",
      "######6######\n",
      "(0, 0, 162, 0, -6.099999904632568)\n",
      "(1, 0, 162, 0, -4.099999904632568)\n",
      "(2, 0, 162, 0, -1.100000023841858)\n",
      "######7######\n",
      "(0, 0, 96, 0, -3.700000047683716)\n",
      "(1, 0, 96, 0, -2.700000047683716)\n",
      "(2, 0, 96, 0, -1.7000000476837158)\n",
      "######8######\n",
      "(0, 0, 164, 0, -2.5)\n",
      "(1, 0, 164, 0, 0.5)\n",
      "(2, 0, 164, 0, -3.5)\n",
      "######9######\n",
      "(0, 0, 160, 0, 5.400000095367432)\n",
      "(1, 0, 160, 0, 0.4000000059604645)\n",
      "(2, 0, 160, 0, -1.600000023841858)\n"
     ]
    }
   ],
   "source": [
    "num = tb0.GetEntries()\n",
    "for i in range(10):\n",
    "    tb0.GetEntry(i)\n",
    "    print(\"######%i######\" %(i))\n",
    "    for j in range(3):\n",
    "        print(j,tbjcPadReg.EventNum,tbjcPadReg.PadNum,tbjcPadReg.EventNum,tbjcPadReg.Adc[j])\n",
    "    #print(\"%i pos:(%f,%f)\" %  (i,tbjcPadReg.PadX,tbjcPadReg.PadY))"
   ]
  },
  {
   "cell_type": "code",
   "execution_count": 11,
   "metadata": {
    "collapsed": false
   },
   "outputs": [
    {
     "data": {
      "text/plain": [
       "75900L"
      ]
     },
     "execution_count": 11,
     "metadata": {},
     "output_type": "execute_result"
    }
   ],
   "source": [
    "tb1.GetEntry(100)\n",
    "tbjcPSAReg.EventNum\n",
    "tb0.GetEntries()"
   ]
  },
  {
   "cell_type": "code",
   "execution_count": 10,
   "metadata": {
    "collapsed": false
   },
   "outputs": [
    {
     "ename": "NameError",
     "evalue": "name 'pp_t' is not defined",
     "output_type": "error",
     "traceback": [
      "\u001b[0;31m\u001b[0m",
      "\u001b[0;31mNameError\u001b[0mTraceback (most recent call last)",
      "\u001b[0;32m<ipython-input-10-bcde0c316676>\u001b[0m in \u001b[0;36m<module>\u001b[0;34m()\u001b[0m\n\u001b[0;32m----> 1\u001b[0;31m \u001b[0mtb2\u001b[0m\u001b[0;34m.\u001b[0m\u001b[0mSetAddress\u001b[0m\u001b[0;34m(\u001b[0m\u001b[0mROOT\u001b[0m\u001b[0;34m.\u001b[0m\u001b[0mAddressOf\u001b[0m\u001b[0;34m(\u001b[0m\u001b[0mpp_t\u001b[0m\u001b[0;34m,\u001b[0m\u001b[0;34m'bobo1'\u001b[0m\u001b[0;34m)\u001b[0m\u001b[0;34m)\u001b[0m\u001b[0;34m\u001b[0m\u001b[0m\n\u001b[0m",
      "\u001b[0;31mNameError\u001b[0m: name 'pp_t' is not defined"
     ]
    }
   ],
   "source": [
    "tb2.SetAddress(ROOT.AddressOf(pp_t,'bobo1'))"
   ]
  },
  {
   "cell_type": "code",
   "execution_count": null,
   "metadata": {
    "collapsed": false
   },
   "outputs": [],
   "source": [
    "for i in range(tb2.GetEntries()):\n",
    "    tb2.GetEntry(i)\n",
    "    print i,pp_t.bobo1,pp_t.bobo2[0],pp_t.bobo2[1],pp_t.bobo2[2],pp_t.bobo3"
   ]
  },
  {
   "cell_type": "code",
   "execution_count": null,
   "metadata": {
    "collapsed": true
   },
   "outputs": [],
   "source": []
  }
 ],
 "metadata": {
  "anaconda-cloud": {},
  "kernelspec": {
   "display_name": "Python 2",
   "language": "python",
   "name": "python2"
  },
  "language_info": {
   "codemirror_mode": {
    "name": "ipython",
    "version": 2
   },
   "file_extension": ".py",
   "mimetype": "text/x-python",
   "name": "python",
   "nbconvert_exporter": "python",
   "pygments_lexer": "ipython2",
   "version": "2.7.13"
  }
 },
 "nbformat": 4,
 "nbformat_minor": 1
}
