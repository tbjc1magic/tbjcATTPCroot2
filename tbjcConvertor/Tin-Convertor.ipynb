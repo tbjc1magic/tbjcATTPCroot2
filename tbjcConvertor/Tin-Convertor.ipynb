{
 "cells": [
  {
   "cell_type": "code",
   "execution_count": 2,
   "metadata": {},
   "outputs": [
    {
     "data": {
      "application/javascript": [
       "\n",
       "require(['notebook'],\n",
       "  function() {\n",
       "    IPython.CodeCell.config_defaults.highlight_modes['magic_text/x-c++src'] = {'reg':[/^%%cpp/]};\n",
       "    console.log(\"JupyROOT - %%cpp magic configured\");\n",
       "  }\n",
       ");\n"
      ]
     },
     "metadata": {},
     "output_type": "display_data"
    },
    {
     "name": "stdout",
     "output_type": "stream",
     "text": [
      "Welcome to JupyROOT 6.08/00\n"
     ]
    }
   ],
   "source": [
    "import ROOT\n",
    "import numpy as np\n",
    "import pylab as plt\n",
    "from array import array\n",
    "import pandas as pd\n",
    "from sqlalchemy import *\n",
    "\n",
    "%matplotlib inline"
   ]
  },
  {
   "cell_type": "code",
   "execution_count": 3,
   "metadata": {},
   "outputs": [
    {
     "data": {
      "text/plain": [
       "0L"
      ]
     },
     "execution_count": 3,
     "metadata": {},
     "output_type": "execute_result"
    }
   ],
   "source": [
    "ROOT.gROOT.ProcessLine(\n",
    "\"struct tbjcStruct\\\n",
    "{\\\n",
    "    short uval[512];\\\n",
    "};\" )"
   ]
  },
  {
   "cell_type": "code",
   "execution_count": 10,
   "metadata": {
    "collapsed": true
   },
   "outputs": [],
   "source": [
    "f = ROOT.TFile(\"../data/ANL_March_2013/ROOT_files/run40.root\")\n",
    "tree = f.Get(\"AutoTree\")\n",
    "tb0 = tree.GetBranch(\"asic_1_33\")\n",
    "#tb1 = tree.GetBranch(\"PSA\")\n",
    "#tb2 = tree.GetBranch(\"Hit\")\n",
    "#l = ROOT.vector('short')()\n",
    "tbjcStruct = ROOT.tbjcStruct()\n",
    "tb0.SetAddress(ROOT.AddressOf(tbjcStruct,'uval'))\n"
   ]
  },
  {
   "cell_type": "code",
   "execution_count": 6,
   "metadata": {
    "collapsed": true
   },
   "outputs": [],
   "source": [
    "engineMap = create_engine('sqlite+pysqlite:///../data/SQL/Tin132/map.sql')\n",
    "LookMapdf = pd.io.sql.read_sql(\"SELECT * FROM LookMap\", engineMap)\n",
    "\n",
    "def FindPadNum(AgetID,ChannelID):\n",
    "    print LookMapdf[(LookMapdf['AgetID']==AgetID)&(LookMapdf['ChannelID']==ChannelID)]['PadNum']\n",
    "    try:\n",
    "    return LookMapdf[(LookMapdf['AgetID']==AgetID)&(LookMapdf['ChannelID']==ChannelID)]['PadNum'].values[0]"
   ]
  },
  {
   "cell_type": "code",
   "execution_count": 7,
   "metadata": {},
   "outputs": [],
   "source": [
    "#LookMapdf.head()\n",
    "#sorted(LookMapdf['ChannelID'].unique())\n",
    "#sorted(LookMapdf['AgetID'].unique());\n",
    "#print sorted(LookMapdf[LookMapdf['AgetID']==0]['PadNum'].unique())\n",
    "#LookMapdf"
   ]
  },
  {
   "cell_type": "code",
   "execution_count": 31,
   "metadata": {},
   "outputs": [],
   "source": [
    "LookMapdf.to_csv(\"map.csv\")"
   ]
  },
  {
   "cell_type": "code",
   "execution_count": 29,
   "metadata": {},
   "outputs": [
    {
     "name": "stdout",
     "output_type": "stream",
     "text": [
      "[209, 262, 266, 265, 264, 266, 263, 263, 262, 263]\n"
     ]
    },
    {
     "data": {
      "image/png": "[encoded data removed]",
      "text/plain": [
       "<matplotlib.figure.Figure at 0x7fc3bfbba5d0>"
      ]
     },
     "metadata": {},
     "output_type": "display_data"
    }
   ],
   "source": [
    "tb0.GetEntry(1)\n",
    "plt.plot([tbjcStruct.uval[_] for _ in range(512)])\n",
    "print [tbjcStruct.uval[_] for _ in range(512)][:10]"
   ]
  },
  {
   "cell_type": "code",
   "execution_count": 9,
   "metadata": {
    "collapsed": true
   },
   "outputs": [],
   "source": [
    "from sqlalchemy import *\n",
    "\n",
    "engine = create_engine('sqlite+pysqlite:///../a.sql')\n",
    "\n",
    "# In[ ]:\n",
    "\n",
    "import model\n",
    "from sqlalchemy import orm\n",
    "\n",
    "# In[ ]:\n",
    "\n",
    "model.metadata.bind = engine\n",
    "model.metadata.create_all()\n",
    "\n",
    "# Set up the session\n",
    "sm = orm.sessionmaker(bind=engine, autoflush=True, autocommit=False,\n",
    "    expire_on_commit=True)\n",
    "session = orm.scoped_session(sm)"
   ]
  },
  {
   "cell_type": "code",
   "execution_count": null,
   "metadata": {
    "collapsed": true
   },
   "outputs": [],
   "source": []
  },
  {
   "cell_type": "code",
   "execution_count": 9,
   "metadata": {},
   "outputs": [
    {
     "name": "stdout",
     "output_type": "stream",
     "text": [
      "0\n"
     ]
    }
   ],
   "source": [
    "# In[ ]:\n",
    "\n",
    "TB = 512\n",
    "for i in xrange(10):\n",
    "\n",
    "    if i % 100 == 0:\n",
    "        print i\n",
    "\n",
    "    tb0.GetEntry(i)\n",
    "    RawADC = model.RawADC()\n",
    "    #RawADC.ID = i\n",
    "    RawADC.EventID = i\n",
    "    RawADC.PadNum = 40\n",
    "\n",
    "    for j in range(TB):\n",
    "        setattr(RawADC, 't'+str(j), tbjcStruct.uval[j])\n",
    "    session.add(RawADC)\n",
    "\n",
    "    #session.flush()\n",
    "    if i %10000 == 0:\n",
    "        session.commit()\n",
    "session.commit()"
   ]
  },
  {
   "cell_type": "code",
   "execution_count": 16,
   "metadata": {},
   "outputs": [
    {
     "name": "stdout",
     "output_type": "stream",
     "text": [
      "12\n"
     ]
    },
    {
     "data": {
      "image/png": "[encoded data removed]",
      "text/plain": [
       "<matplotlib.figure.Figure at 0x7f40bcd1ccd0>"
      ]
     },
     "metadata": {},
     "output_type": "display_data"
    }
   ],
   "source": [
    "for i in range(2,1900):\n",
    "    tree.GetEntry(i)\n",
    "    data = [tbjcStruct1.uval[_] for _ in range(512)]\n",
    "    \n",
    "    if sum(data)>10:\n",
    "        print i\n",
    "        plt.plot([tbjcStruct1.uval[_] for _ in range(512)])\n",
    "        break"
   ]
  },
  {
   "cell_type": "code",
   "execution_count": 5,
   "metadata": {
    "collapsed": true
   },
   "outputs": [],
   "source": [
    "names = [br.GetName() for br in tree.GetListOfBranches()]\n",
    "titles = [br.GetTitle() for br in tree.GetListOfBranches()]"
   ]
  },
  {
   "cell_type": "code",
   "execution_count": 7,
   "metadata": {},
   "outputs": [
    {
     "name": "stdout",
     "output_type": "stream",
     "text": [
      "metaType : metaType/i\n",
      "frameSize : frameSize/i\n",
      "dataSource : dataSource/i\n",
      "frameType : frameType/i\n",
      "revision : revision/i\n",
      "headerSize : headerSize/i\n",
      "itemSize : itemSize/i\n",
      "nItems : nItems/i\n",
      "eventTime : eventTime/l\n",
      "eventIdx : eventIdx/i\n",
      "coboIdx : coboIdx/i\n",
      "asadIdx : asadIdx/i\n",
      "readOffset : readOffset/i\n",
      "status : status/i\n",
      "hitPat_0 : hitPat_0[3]/i\n",
      "hitPat_1 : hitPat_1[3]/i\n",
      "hitPat_2 : hitPat_2[3]/i\n",
      "hitPat_3 : hitPat_3[3]/i\n",
      "multip_0 : multip_0/i\n",
      "multip_1 : multip_1/i\n",
      "multip_2 : multip_2/i\n",
      "multip_3 : multip_3/i\n",
      "multip_3 : multip_3/i\n",
      "windowOut : windowOut/i\n",
      "lastCell_0 : lastCell_0/i\n",
      "lastCell_1 : lastCell_1/i\n",
      "lastCell_2 : lastCell_2/i\n",
      "lastCell_3 : lastCell_3/i\n",
      "event_no : event_no/i\n",
      "time_stamp : time_stamp/l\n",
      "cobo_tac : cobo_tac/s\n",
      "mcp_tac : mcp_tac/s\n",
      "asic_0_00 : uval[512]/s\n",
      "asic_0_01 : uval[512]/s\n",
      "asic_0_02 : uval[512]/s\n",
      "asic_0_03 : uval[512]/s\n",
      "asic_0_04 : uval[512]/s\n",
      "asic_0_05 : uval[512]/s\n",
      "asic_0_06 : uval[512]/s\n",
      "asic_0_07 : uval[512]/s\n",
      "asic_0_08 : uval[512]/s\n",
      "asic_0_09 : uval[512]/s\n",
      "asic_0_10 : uval[512]/s\n",
      "asic_0_11 : uval[512]/s\n",
      "asic_0_12 : uval[512]/s\n",
      "asic_0_13 : uval[512]/s\n",
      "asic_0_14 : uval[512]/s\n",
      "asic_0_15 : uval[512]/s\n",
      "asic_0_16 : uval[512]/s\n",
      "asic_0_17 : uval[512]/s\n",
      "asic_0_18 : uval[512]/s\n",
      "asic_0_19 : uval[512]/s\n",
      "asic_0_20 : uval[512]/s\n",
      "asic_0_21 : uval[512]/s\n",
      "asic_0_22 : uval[512]/s\n",
      "asic_0_23 : uval[512]/s\n",
      "asic_0_24 : uval[512]/s\n",
      "asic_0_25 : uval[512]/s\n",
      "asic_0_26 : uval[512]/s\n",
      "asic_0_27 : uval[512]/s\n",
      "asic_0_28 : uval[512]/s\n",
      "asic_0_29 : uval[512]/s\n",
      "asic_0_30 : uval[512]/s\n",
      "asic_0_31 : uval[512]/s\n",
      "asic_0_32 : uval[512]/s\n",
      "asic_0_33 : uval[512]/s\n",
      "asic_0_34 : uval[512]/s\n",
      "asic_0_35 : uval[512]/s\n",
      "asic_0_36 : uval[512]/s\n",
      "asic_0_37 : uval[512]/s\n",
      "asic_0_38 : uval[512]/s\n",
      "asic_0_39 : uval[512]/s\n",
      "asic_0_40 : uval[512]/s\n",
      "asic_0_41 : uval[512]/s\n",
      "asic_0_42 : uval[512]/s\n",
      "asic_0_43 : uval[512]/s\n",
      "asic_0_44 : uval[512]/s\n",
      "asic_0_45 : uval[512]/s\n",
      "asic_0_46 : uval[512]/s\n",
      "asic_0_47 : uval[512]/s\n",
      "asic_0_48 : uval[512]/s\n",
      "asic_0_49 : uval[512]/s\n",
      "asic_0_50 : uval[512]/s\n",
      "asic_0_51 : uval[512]/s\n",
      "asic_0_52 : uval[512]/s\n",
      "asic_0_53 : uval[512]/s\n",
      "asic_0_54 : uval[512]/s\n",
      "asic_0_55 : uval[512]/s\n",
      "asic_0_56 : uval[512]/s\n",
      "asic_0_57 : uval[512]/s\n",
      "asic_0_58 : uval[512]/s\n",
      "asic_0_59 : uval[512]/s\n",
      "asic_0_60 : uval[512]/s\n",
      "asic_0_61 : uval[512]/s\n",
      "asic_0_62 : uval[512]/s\n",
      "asic_0_63 : uval[512]/s\n",
      "asic_0_64 : uval[512]/s\n",
      "asic_0_65 : uval[512]/s\n",
      "asic_0_66 : uval[512]/s\n",
      "asic_0_67 : uval[512]/s\n",
      "asic_1_00 : uval[512]/s\n",
      "asic_1_01 : uval[512]/s\n",
      "asic_1_02 : uval[512]/s\n",
      "asic_1_03 : uval[512]/s\n",
      "asic_1_04 : uval[512]/s\n",
      "asic_1_05 : uval[512]/s\n",
      "asic_1_06 : uval[512]/s\n",
      "asic_1_07 : uval[512]/s\n",
      "asic_1_08 : uval[512]/s\n",
      "asic_1_09 : uval[512]/s\n",
      "asic_1_10 : uval[512]/s\n",
      "asic_1_11 : uval[512]/s\n",
      "asic_1_12 : uval[512]/s\n",
      "asic_1_13 : uval[512]/s\n",
      "asic_1_14 : uval[512]/s\n",
      "asic_1_15 : uval[512]/s\n",
      "asic_1_16 : uval[512]/s\n",
      "asic_1_17 : uval[512]/s\n",
      "asic_1_18 : uval[512]/s\n",
      "asic_1_19 : uval[512]/s\n",
      "asic_1_20 : uval[512]/s\n",
      "asic_1_21 : uval[512]/s\n",
      "asic_1_22 : uval[512]/s\n",
      "asic_1_23 : uval[512]/s\n",
      "asic_1_24 : uval[512]/s\n",
      "asic_1_25 : uval[512]/s\n",
      "asic_1_26 : uval[512]/s\n",
      "asic_1_27 : uval[512]/s\n",
      "asic_1_28 : uval[512]/s\n",
      "asic_1_29 : uval[512]/s\n",
      "asic_1_30 : uval[512]/s\n",
      "asic_1_31 : uval[512]/s\n",
      "asic_1_32 : uval[512]/s\n",
      "asic_1_33 : uval[512]/s\n",
      "asic_1_34 : uval[512]/s\n",
      "asic_1_35 : uval[512]/s\n",
      "asic_1_36 : uval[512]/s\n",
      "asic_1_37 : uval[512]/s\n",
      "asic_1_38 : uval[512]/s\n",
      "asic_1_39 : uval[512]/s\n",
      "asic_1_40 : uval[512]/s\n",
      "asic_1_41 : uval[512]/s\n",
      "asic_1_42 : uval[512]/s\n",
      "asic_1_43 : uval[512]/s\n",
      "asic_1_44 : uval[512]/s\n",
      "asic_1_45 : uval[512]/s\n",
      "asic_1_46 : uval[512]/s\n",
      "asic_1_47 : uval[512]/s\n",
      "asic_1_48 : uval[512]/s\n",
      "asic_1_49 : uval[512]/s\n",
      "asic_1_50 : uval[512]/s\n",
      "asic_1_51 : uval[512]/s\n",
      "asic_1_52 : uval[512]/s\n",
      "asic_1_53 : uval[512]/s\n",
      "asic_1_54 : uval[512]/s\n",
      "asic_1_55 : uval[512]/s\n",
      "asic_1_56 : uval[512]/s\n",
      "asic_1_57 : uval[512]/s\n",
      "asic_1_58 : uval[512]/s\n",
      "asic_1_59 : uval[512]/s\n",
      "asic_1_60 : uval[512]/s\n",
      "asic_1_61 : uval[512]/s\n",
      "asic_1_62 : uval[512]/s\n",
      "asic_1_63 : uval[512]/s\n",
      "asic_1_64 : uval[512]/s\n",
      "asic_1_65 : uval[512]/s\n",
      "asic_1_66 : uval[512]/s\n",
      "asic_1_67 : uval[512]/s\n",
      "asic_2_00 : uval[512]/s\n",
      "asic_2_01 : uval[512]/s\n",
      "asic_2_02 : uval[512]/s\n",
      "asic_2_03 : uval[512]/s\n",
      "asic_2_04 : uval[512]/s\n",
      "asic_2_05 : uval[512]/s\n",
      "asic_2_06 : uval[512]/s\n",
      "asic_2_07 : uval[512]/s\n",
      "asic_2_08 : uval[512]/s\n",
      "asic_2_09 : uval[512]/s\n",
      "asic_2_10 : uval[512]/s\n",
      "asic_2_11 : uval[512]/s\n",
      "asic_2_12 : uval[512]/s\n",
      "asic_2_13 : uval[512]/s\n",
      "asic_2_14 : uval[512]/s\n",
      "asic_2_15 : uval[512]/s\n",
      "asic_2_16 : uval[512]/s\n",
      "asic_2_17 : uval[512]/s\n",
      "asic_2_18 : uval[512]/s\n",
      "asic_2_19 : uval[512]/s\n",
      "asic_2_20 : uval[512]/s\n",
      "asic_2_21 : uval[512]/s\n",
      "asic_2_22 : uval[512]/s\n",
      "asic_2_23 : uval[512]/s\n",
      "asic_2_24 : uval[512]/s\n",
      "asic_2_25 : uval[512]/s\n",
      "asic_2_26 : uval[512]/s\n",
      "asic_2_27 : uval[512]/s\n",
      "asic_2_28 : uval[512]/s\n",
      "asic_2_29 : uval[512]/s\n",
      "asic_2_30 : uval[512]/s\n",
      "asic_2_31 : uval[512]/s\n",
      "asic_2_32 : uval[512]/s\n",
      "asic_2_33 : uval[512]/s\n",
      "asic_2_34 : uval[512]/s\n",
      "asic_2_35 : uval[512]/s\n",
      "asic_2_36 : uval[512]/s\n",
      "asic_2_37 : uval[512]/s\n",
      "asic_2_38 : uval[512]/s\n",
      "asic_2_39 : uval[512]/s\n",
      "asic_2_40 : uval[512]/s\n",
      "asic_2_41 : uval[512]/s\n",
      "asic_2_42 : uval[512]/s\n",
      "asic_2_43 : uval[512]/s\n",
      "asic_2_44 : uval[512]/s\n",
      "asic_2_45 : uval[512]/s\n",
      "asic_2_46 : uval[512]/s\n",
      "asic_2_47 : uval[512]/s\n",
      "asic_2_48 : uval[512]/s\n",
      "asic_2_49 : uval[512]/s\n",
      "asic_2_50 : uval[512]/s\n",
      "asic_2_51 : uval[512]/s\n",
      "asic_2_52 : uval[512]/s\n",
      "asic_2_53 : uval[512]/s\n",
      "asic_2_54 : uval[512]/s\n",
      "asic_2_55 : uval[512]/s\n",
      "asic_2_56 : uval[512]/s\n",
      "asic_2_57 : uval[512]/s\n",
      "asic_2_58 : uval[512]/s\n",
      "asic_2_59 : uval[512]/s\n",
      "asic_2_60 : uval[512]/s\n",
      "asic_2_61 : uval[512]/s\n",
      "asic_2_62 : uval[512]/s\n",
      "asic_2_63 : uval[512]/s\n",
      "asic_2_64 : uval[512]/s\n",
      "asic_2_65 : uval[512]/s\n",
      "asic_2_66 : uval[512]/s\n",
      "asic_2_67 : uval[512]/s\n",
      "asic_3_00 : uval[512]/s\n",
      "asic_3_01 : uval[512]/s\n",
      "asic_3_02 : uval[512]/s\n",
      "asic_3_03 : uval[512]/s\n",
      "asic_3_04 : uval[512]/s\n",
      "asic_3_05 : uval[512]/s\n",
      "asic_3_06 : uval[512]/s\n",
      "asic_3_07 : uval[512]/s\n",
      "asic_3_08 : uval[512]/s\n",
      "asic_3_09 : uval[512]/s\n",
      "asic_3_10 : uval[512]/s\n",
      "asic_3_11 : uval[512]/s\n",
      "asic_3_12 : uval[512]/s\n",
      "asic_3_13 : uval[512]/s\n",
      "asic_3_14 : uval[512]/s\n",
      "asic_3_15 : uval[512]/s\n",
      "asic_3_16 : uval[512]/s\n",
      "asic_3_17 : uval[512]/s\n",
      "asic_3_18 : uval[512]/s\n",
      "asic_3_19 : uval[512]/s\n",
      "asic_3_20 : uval[512]/s\n",
      "asic_3_21 : uval[512]/s\n",
      "asic_3_22 : uval[512]/s\n",
      "asic_3_23 : uval[512]/s\n",
      "asic_3_24 : uval[512]/s\n",
      "asic_3_25 : uval[512]/s\n",
      "asic_3_26 : uval[512]/s\n",
      "asic_3_27 : uval[512]/s\n",
      "asic_3_28 : uval[512]/s\n",
      "asic_3_29 : uval[512]/s\n",
      "asic_3_30 : uval[512]/s\n",
      "asic_3_31 : uval[512]/s\n",
      "asic_3_32 : uval[512]/s\n",
      "asic_3_33 : uval[512]/s\n",
      "asic_3_34 : uval[512]/s\n",
      "asic_3_35 : uval[512]/s\n",
      "asic_3_36 : uval[512]/s\n",
      "asic_3_37 : uval[512]/s\n",
      "asic_3_38 : uval[512]/s\n",
      "asic_3_39 : uval[512]/s\n",
      "asic_3_40 : uval[512]/s\n",
      "asic_3_41 : uval[512]/s\n",
      "asic_3_42 : uval[512]/s\n",
      "asic_3_43 : uval[512]/s\n",
      "asic_3_44 : uval[512]/s\n",
      "asic_3_45 : uval[512]/s\n",
      "asic_3_46 : uval[512]/s\n",
      "asic_3_47 : uval[512]/s\n",
      "asic_3_48 : uval[512]/s\n",
      "asic_3_49 : uval[512]/s\n",
      "asic_3_50 : uval[512]/s\n",
      "asic_3_51 : uval[512]/s\n",
      "asic_3_52 : uval[512]/s\n",
      "asic_3_53 : uval[512]/s\n",
      "asic_3_54 : uval[512]/s\n",
      "asic_3_55 : uval[512]/s\n",
      "asic_3_56 : uval[512]/s\n",
      "asic_3_57 : uval[512]/s\n",
      "asic_3_58 : uval[512]/s\n",
      "asic_3_59 : uval[512]/s\n",
      "asic_3_60 : uval[512]/s\n",
      "asic_3_61 : uval[512]/s\n",
      "asic_3_62 : uval[512]/s\n",
      "asic_3_63 : uval[512]/s\n",
      "asic_3_64 : uval[512]/s\n",
      "asic_3_65 : uval[512]/s\n",
      "asic_3_66 : uval[512]/s\n",
      "asic_3_67 : uval[512]/s\n"
     ]
    }
   ],
   "source": [
    "for n,t in zip(names,titles):\n",
    "    print n,':',t"
   ]
  },
  {
   "cell_type": "code",
   "execution_count": null,
   "metadata": {
    "collapsed": true
   },
   "outputs": [],
   "source": []
  }
 ],
 "metadata": {
  "kernelspec": {
   "display_name": "Python 2",
   "language": "python",
   "name": "python2"
  },
  "language_info": {
   "codemirror_mode": {
    "name": "ipython",
    "version": 2
   },
   "file_extension": ".py",
   "mimetype": "text/x-python",
   "name": "python",
   "nbconvert_exporter": "python",
   "pygments_lexer": "ipython2",
   "version": "2.7.13"
  }
 },
 "nbformat": 4,
 "nbformat_minor": 2
}
