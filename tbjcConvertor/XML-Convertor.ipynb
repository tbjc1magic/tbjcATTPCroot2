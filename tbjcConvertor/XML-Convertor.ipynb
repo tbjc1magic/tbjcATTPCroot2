{
 "cells": [
  {
   "cell_type": "code",
   "execution_count": 1,
   "metadata": {
    "collapsed": true
   },
   "outputs": [],
   "source": [
    "import xml.etree.ElementTree as ET\n",
    "tree = ET.parse('../map/LookupProto20150331.xml')\n",
    "root = tree.getroot()"
   ]
  },
  {
   "cell_type": "code",
   "execution_count": 24,
   "metadata": {},
   "outputs": [],
   "source": [
    "from collections import defaultdict\n",
    "d = defaultdict(list)\n",
    "for entry in root:\n",
    "    for a in entry:\n",
    "        d[a.tag].append(int(a.text))"
   ]
  },
  {
   "cell_type": "code",
   "execution_count": 31,
   "metadata": {},
   "outputs": [
    {
     "name": "stdout",
     "output_type": "stream",
     "text": [
      "   AgetID  AsadID  ChannelID  CoboID  ID  PadID\n",
      "0       1       0          1       0   1      0\n",
      "1       2       0         62       0   2      1\n",
      "2       2       0         60       0   3      2\n",
      "3       2       0         63       0   4      3\n",
      "4       2       0         55       0   5      4\n"
     ]
    }
   ],
   "source": [
    "import pandas as pd\n",
    "look_df = pd.DataFrame(d)\n",
    "print look_df.head()"
   ]
  },
  {
   "cell_type": "code",
   "execution_count": 32,
   "metadata": {},
   "outputs": [
    {
     "name": "stdout",
     "output_type": "stream",
     "text": [
      "   PadNum        PadName     PadX      PadY  BinNum\n",
      "0       0  sector_center  0.00000  0.000000     257\n",
      "1       1      sector1_0  1.30108  0.947523       1\n",
      "2       2      sector2_0  2.18496  1.831410       2\n",
      "3       3      sector1_1  2.71529  2.361740       3\n",
      "4       4      sector2_1  3.59917  3.245620       4\n"
     ]
    }
   ],
   "source": [
    "from sqlalchemy import *\n",
    "engine = create_engine('sqlite+pysqlite:///../data/SQL/10C/ProtoMap.db')\n",
    "ProtoMapdf = pd.io.sql.read_sql(\"SELECT * FROM ProtoMap\", engine)\n",
    "print ProtoMapdf.head()"
   ]
  },
  {
   "cell_type": "code",
   "execution_count": 36,
   "metadata": {},
   "outputs": [],
   "source": [
    "engine = create_engine('sqlite+pysqlite:///../data/SQL/Tin132/map.sql')\n",
    "\n",
    "map_df = pd.merge(look_df,ProtoMapdf,left_on='PadID',right_on='PadNum').drop('PadID',axis=1)\n",
    "map_df.to_sql('LookMap',engine)"
   ]
  },
  {
   "cell_type": "code",
   "execution_count": null,
   "metadata": {
    "collapsed": true
   },
   "outputs": [],
   "source": []
  }
 ],
 "metadata": {
  "kernelspec": {
   "display_name": "Python 2",
   "language": "python",
   "name": "python2"
  },
  "language_info": {
   "codemirror_mode": {
    "name": "ipython",
    "version": 2
   },
   "file_extension": ".py",
   "mimetype": "text/x-python",
   "name": "python",
   "nbconvert_exporter": "python",
   "pygments_lexer": "ipython2",
   "version": "2.7.13"
  }
 },
 "nbformat": 4,
 "nbformat_minor": 2
}
