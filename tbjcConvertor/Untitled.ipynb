{
 "cells": [
  {
   "cell_type": "code",
   "execution_count": 1,
   "metadata": {},
   "outputs": [
    {
     "data": {
      "application/javascript": [
       "\n",
       "require(['notebook'],\n",
       "  function() {\n",
       "    IPython.CodeCell.config_defaults.highlight_modes['magic_text/x-c++src'] = {'reg':[/^%%cpp/]};\n",
       "    console.log(\"JupyROOT - %%cpp magic configured\");\n",
       "  }\n",
       ");\n"
      ]
     },
     "metadata": {},
     "output_type": "display_data"
    },
    {
     "name": "stdout",
     "output_type": "stream",
     "text": [
      "Welcome to JupyROOT 6.08/00\n"
     ]
    }
   ],
   "source": [
    "import ROOT\n",
    "import numpy as np\n",
    "import pylab as plt\n",
    "from array import array\n",
    "import pandas as pd\n",
    "from sqlalchemy import *\n",
    "import model\n",
    "from sqlalchemy import orm\n",
    "%matplotlib inline"
   ]
  },
  {
   "cell_type": "code",
   "execution_count": 2,
   "metadata": {},
   "outputs": [],
   "source": [
    "ROOT.gROOT.ProcessLine(\n",
    "\"struct tbjcStruct\\\n",
    "{\\\n",
    "    short uval[512];\\\n",
    "};\" )\n",
    "\n",
    "engineMap = create_engine('sqlite+pysqlite:///../data/SQL/Tin132/map.sql')\n",
    "LookMapdf = pd.io.sql.read_sql(\"SELECT * FROM LookMap\", engineMap)\n",
    "\n",
    "def FindPadNum(AgetID,ChannelID):\n",
    "    return LookMapdf[(LookMapdf['AgetID']==AgetID)&(LookMapdf['ChannelID']==ChannelID)]['PadNum'].values[0]"
   ]
  },
  {
   "cell_type": "code",
   "execution_count": 3,
   "metadata": {
    "collapsed": true
   },
   "outputs": [],
   "source": [
    "f = ROOT.TFile(\"../data/ANL_March_2013/ROOT_files/run40.root\")\n",
    "tree = f.Get(\"AutoTree\")\n",
    "\n",
    "engine = create_engine('sqlite+pysqlite:///../b.sql')\n",
    "\n",
    "model.metadata.bind = engine\n",
    "model.metadata.create_all()\n",
    "\n",
    "sm = orm.sessionmaker(bind=engine, autoflush=True, autocommit=False, expire_on_commit=True)\n",
    "session = orm.scoped_session(sm)\n"
   ]
  },
  {
   "cell_type": "code",
   "execution_count": null,
   "metadata": {},
   "outputs": [],
   "source": [
    "for AgetID in range(4):\n",
    "    print \"alalal\"\n",
    "    for ChannelID in range(68):\n",
    "\n",
    "        continue\n",
    "        tb0 = tree.GetBranch(\"asic_{}_{:02d}\".format(AgetID,ChannelID))\n",
    "        tbjcStruct = ROOT.tbjcStruct()\n",
    "        tb0.SetAddress(ROOT.AddressOf(tbjcStruct,'uval'))\n",
    "        \n",
    "        PadNum = FindPadNum(AgetID,ChannelID)\n",
    "        \n",
    "        TB = 512\n",
    "        for i in xrange(tb0.GetEntries()):\n",
    "\n",
    "            if i % 100 == 0:\n",
    "                print i\n",
    "\n",
    "            continue\n",
    "            tb0.GetEntry(i)\n",
    "            RawADC = model.RawADC()\n",
    "            RawADC.EventID = i\n",
    "            RawADC.PadNum = PadNum\n",
    "\n",
    "            for j in range(TB):\n",
    "                setattr(RawADC, 't'+str(j), tbjcStruct.uval[j])\n",
    "            session.add(RawADC)\n",
    "\n",
    "            #session.flush()\n",
    "            if i %10000 == 0:\n",
    "                session.commit()\n",
    "        #session.commit()\n",
    "        "
   ]
  },
  {
   "cell_type": "code",
   "execution_count": null,
   "metadata": {
    "collapsed": true
   },
   "outputs": [],
   "source": []
  },
  {
   "cell_type": "code",
   "execution_count": null,
   "metadata": {
    "collapsed": true
   },
   "outputs": [],
   "source": []
  }
 ],
 "metadata": {
  "kernelspec": {
   "display_name": "Python 2",
   "language": "python",
   "name": "python2"
  },
  "language_info": {
   "codemirror_mode": {
    "name": "ipython",
    "version": 2
   },
   "file_extension": ".py",
   "mimetype": "text/x-python",
   "name": "python",
   "nbconvert_exporter": "python",
   "pygments_lexer": "ipython2",
   "version": "2.7.13"
  }
 },
 "nbformat": 4,
 "nbformat_minor": 2
}
