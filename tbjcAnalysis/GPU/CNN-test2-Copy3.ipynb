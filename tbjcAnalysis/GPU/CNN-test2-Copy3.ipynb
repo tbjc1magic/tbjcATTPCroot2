{
 "cells": [
  {
   "cell_type": "code",
   "execution_count": 1,
   "metadata": {},
   "outputs": [
    {
     "name": "stderr",
     "output_type": "stream",
     "text": [
      "Using TensorFlow backend.\n"
     ]
    }
   ],
   "source": [
    "import numpy as np\n",
    "import tensorflow as tf\n",
    "import time\n",
    "from skimage.draw import line_aa\n",
    "import scipy.misc\n",
    "import pylab as plt\n",
    "import cv2\n",
    "from PIL import Image\n",
    "from PIL import ImageDraw\n",
    "from IPython import display\n",
    "from keras.models import Sequential\n",
    "from keras.layers import Dense, Activation\n",
    "\n",
    "%matplotlib inline"
   ]
  },
  {
   "cell_type": "code",
   "execution_count": 2,
   "metadata": {},
   "outputs": [
    {
     "data": {
      "text/plain": [
       "<matplotlib.collections.PathCollection at 0x7f7e2416a390>"
      ]
     },
     "execution_count": 2,
     "metadata": {},
     "output_type": "execute_result"
    },
    {
     "data": {
      "image/png": "[encoded data removed]",
      "text/plain": [
       "<matplotlib.figure.Figure at 0x7f7e2546c610>"
      ]
     },
     "metadata": {},
     "output_type": "display_data"
    }
   ],
   "source": [
    "def GenerateData(size = 1):\n",
    "\n",
    "    out_image = []\n",
    "    out_p = []\n",
    "    \n",
    "    for _ in range(size):\n",
    "\n",
    "        img = Image.new('L', (500,300), 0)  \n",
    "        draw = ImageDraw.Draw(img)\n",
    "\n",
    "        cx,cy=150,250\n",
    "        sx,sy  = 20,20\n",
    "        ay,ax = np.random.normal()*sx+cx, np.random.normal()*sy+cy\n",
    "        ly,lx = 20,20\n",
    "        bx,by = (np.random.normal()+1.5)*lx, (np.random.normal()+1.5)*ly\n",
    "        cx,cy = (np.random.normal()+1.5)*lx, -(np.random.normal()+1.5)*ly\n",
    "\n",
    "        dx,dy = np.random.normal()*5-150, np.random.normal()*2\n",
    "\n",
    "        draw.line([(int(ax), int(ay)),(int(bx+ax), int(by+ay))], fill=255, width=5)\n",
    "        draw.line([(int(ax), int(ay)),(int(cx+ax), int(cy+ay))], fill=255, width=5)\n",
    "        draw.line([(int(ax), int(ay)),(int(dx+ax), int(dy+ay))], fill=255, width=5)\n",
    "\n",
    "        image = np.asarray(img)\n",
    "        image = cv2.dilate(image, None, iterations=1)\n",
    "        image = cv2.blur(image,(5,5))\n",
    "        ret,image = cv2.threshold(image,127,255,0)\n",
    "        \n",
    "        #print image[:,:,None]\n",
    "        \n",
    "        out_image.append(image[:,:,None])\n",
    "        out_p.append([ax,ay])\n",
    "        \n",
    "    return np.array(out_image), np.array(out_p)\n",
    "\n",
    "image,p = GenerateData()\n",
    "    \n",
    "plt.imshow(image[0][:,:,0], cmap='gray');\n",
    "plt.scatter(*p[0])"
   ]
  },
  {
   "cell_type": "code",
   "execution_count": 4,
   "metadata": {},
   "outputs": [],
   "source": [
    "images,ps = GenerateData(1000)"
   ]
  },
  {
   "cell_type": "code",
   "execution_count": null,
   "metadata": {
    "collapsed": true
   },
   "outputs": [],
   "source": [
    "model = Sequential()\n",
    "model.add(Dense(units=64, input_dim=100))\n",
    "model.add(Activation('relu'))\n",
    "model.add(Dense(units=10))\n",
    "model.add(Activation('softmax'))"
   ]
  }
 ],
 "metadata": {
  "kernelspec": {
   "display_name": "Python 2",
   "language": "python",
   "name": "python2"
  },
  "language_info": {
   "codemirror_mode": {
    "name": "ipython",
    "version": 2
   },
   "file_extension": ".py",
   "mimetype": "text/x-python",
   "name": "python",
   "nbconvert_exporter": "python",
   "pygments_lexer": "ipython2",
   "version": "2.7.13"
  }
 },
 "nbformat": 4,
 "nbformat_minor": 2
}
