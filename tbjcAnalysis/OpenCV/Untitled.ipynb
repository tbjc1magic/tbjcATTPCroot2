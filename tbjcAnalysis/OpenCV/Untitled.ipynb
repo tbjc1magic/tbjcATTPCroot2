{
 "cells": [
  {
   "cell_type": "code",
   "execution_count": 9,
   "metadata": {
    "collapsed": true
   },
   "outputs": [],
   "source": [
    "import numpy as np\n",
    "import cv2\n",
    "import pylab as plt\n",
    "%matplotlib inline"
   ]
  },
  {
   "cell_type": "code",
   "execution_count": 2,
   "metadata": {
    "collapsed": true
   },
   "outputs": [],
   "source": [
    "img = cv2.imread('up.jpg',0)\n"
   ]
  },
  {
   "cell_type": "code",
   "execution_count": 3,
   "metadata": {},
   "outputs": [
    {
     "data": {
      "text/plain": [
       "<matplotlib.image.AxesImage at 0x7f9f01cdc490>"
      ]
     },
     "execution_count": 3,
     "metadata": {},
     "output_type": "execute_result"
    },
    {
     "data": {
      "image/png": "[encoded data removed]",
      "text/plain": [
       "<matplotlib.figure.Figure at 0x7f9f052fbe50>"
      ]
     },
     "metadata": {},
     "output_type": "display_data"
    }
   ],
   "source": [
    "plt.imshow(img)"
   ]
  },
  {
   "cell_type": "code",
   "execution_count": 12,
   "metadata": {},
   "outputs": [
    {
     "name": "stdout",
     "output_type": "stream",
     "text": [
      "step 1\n",
      "step 1\n",
      "step 1\n",
      "step 1\n",
      "step 1\n",
      "step 1\n",
      "step 1\n",
      "step 1\n",
      "step 1\n",
      "step 1\n",
      "step 2\n"
     ]
    },
    {
     "data": {
      "text/plain": [
       "'Display the results'"
      ]
     },
     "execution_count": 12,
     "metadata": {},
     "output_type": "execute_result"
    },
    {
     "data": {
      "image/png": "[encoded data removed]",
      "text/plain": [
       "<matplotlib.figure.Figure at 0x7f9ef364e310>"
      ]
     },
     "metadata": {},
     "output_type": "display_data"
    }
   ],
   "source": [
    "import matplotlib\n",
    "import matplotlib.pyplot as plt\n",
    "import skimage.io as io\n",
    "\"load image data\"\n",
    "Img_Original =  cv2.imread( 'up.jpg',0)      # Gray image, rgb images need pre-conversion\n",
    "\n",
    "\"Convert gray images to binary images using Otsu's method\"\n",
    "from skimage.filters import threshold_otsu\n",
    "Otsu_Threshold = threshold_otsu(Img_Original)   \n",
    "BW_Original = Img_Original < Otsu_Threshold    # must set object region as 1, background region as 0 !\n",
    "\n",
    "\n",
    "plt.imshow(BW_Original)\n",
    "\n",
    "def neighbours(x,y,image):\n",
    "    \"Return 8-neighbours of image point P1(x,y), in a clockwise order\"\n",
    "    img = image\n",
    "    x_1, y_1, x1, y1 = x-1, y-1, x+1, y+1\n",
    "    return [ img[x_1][y], img[x_1][y1], img[x][y1], img[x1][y1],     # P2,P3,P4,P5\n",
    "                img[x1][y], img[x1][y_1], img[x][y_1], img[x_1][y_1] ]    # P6,P7,P8,P9\n",
    "\n",
    "def transitions(neighbours):\n",
    "    \"No. of 0,1 patterns (transitions from 0 to 1) in the ordered sequence\"\n",
    "    n = neighbours + neighbours[0:1]      # P2, P3, ... , P8, P9, P2\n",
    "    return sum( (n1, n2) == (0, 1) for n1, n2 in zip(n, n[1:]) )  # (P2,P3), (P3,P4), ... , (P8,P9), (P9,P2)\n",
    "\n",
    "def zhangSuen(image):\n",
    "    \"the Zhang-Suen Thinning Algorithm\"\n",
    "    Image_Thinned = image.copy()  # deepcopy to protect the original image\n",
    "    changing1 = changing2 = 1        #  the points to be removed (set as 0)\n",
    "    iter = 0\n",
    "    while (changing1 or changing2) and iter<10:   #  iterates until no further changes occur in the image\n",
    "        # Step 1\n",
    "        iter += 1\n",
    "        changing1 = []\n",
    "        print \"step 1\"\n",
    "\n",
    "        rows, columns = Image_Thinned.shape               # x for rows, y for columns\n",
    "        for x in range(1, rows - 1):                     # No. of  rows\n",
    "            for y in range(1, columns - 1):            # No. of columns\n",
    "                P2,P3,P4,P5,P6,P7,P8,P9 = n = neighbours(x, y, Image_Thinned)\n",
    "                if (Image_Thinned[x][y] == 1     and    # Condition 0: Point P1 in the object regions \n",
    "                    2 <= sum(n) <= 6   and    # Condition 1: 2<= N(P1) <= 6\n",
    "                    transitions(n) == 1 and    # Condition 2: S(P1)=1  \n",
    "                    P2 * P4 * P6 == 0  and    # Condition 3   \n",
    "                    P4 * P6 * P8 == 0):         # Condition 4\n",
    "                    changing1.append((x,y))\n",
    "        for x, y in changing1: \n",
    "            Image_Thinned[x][y] = 0\n",
    "        # Step 2\n",
    "        changing2 = []\n",
    "        for x in range(1, rows - 1):\n",
    "            for y in range(1, columns - 1):\n",
    "                P2,P3,P4,P5,P6,P7,P8,P9 = n = neighbours(x, y, Image_Thinned)\n",
    "                if (Image_Thinned[x][y] == 1   and        # Condition 0\n",
    "                    2 <= sum(n) <= 6  and       # Condition 1\n",
    "                    transitions(n) == 1 and      # Condition 2\n",
    "                    P2 * P4 * P8 == 0 and       # Condition 3\n",
    "                    P2 * P6 * P8 == 0):            # Condition 4\n",
    "                    changing2.append((x,y))    \n",
    "        for x, y in changing2: \n",
    "            Image_Thinned[x][y] = 0\n",
    "    return Image_Thinned\n",
    "\n",
    "\n",
    "\"Apply the algorithm on images\"\n",
    "BW_Skeleton = zhangSuen(BW_Original)\n",
    "plt.imshow(BW_Skeleton)\n",
    "print \"step 2\"\n",
    "\n",
    "# BW_Skeleton = BW_Original\n",
    "\"Display the results\"\n",
    "#fig, ax = plt.subplots(1, 2)\n",
    "#ax1, ax2 = ax.ravel()\n",
    "#ax1.imshow(BW_Original, cmap=plt.cm.gray)\n",
    "#ax1.set_title('Original binary image')\n",
    "#ax1.axis('off')\n",
    "#ax2.imshow(BW_Skeleton, cmap=plt.cm.gray)\n",
    "#ax2.set_title('Skeleton of the image')\n",
    "#ax2.axis('off')\n",
    "#plt.show()"
   ]
  },
  {
   "cell_type": "code",
   "execution_count": null,
   "metadata": {
    "collapsed": true
   },
   "outputs": [],
   "source": [
    "from scipy import weave\n",
    "import numpy as np\n",
    "import cv2\n",
    "import sys\n",
    "\n",
    "def _thinningIteration(im, iter):\n",
    "\tI, M = im, np.zeros(im.shape, np.uint8)\n",
    "\texpr = \"\"\"\n",
    "\tfor (int i = 1; i < NI[0]-1; i++) {\n",
    "\t\tfor (int j = 1; j < NI[1]-1; j++) {\n",
    "\t\t\tint p2 = I2(i-1, j);\n",
    "\t\t\tint p3 = I2(i-1, j+1);\n",
    "\t\t\tint p4 = I2(i, j+1);\n",
    "\t\t\tint p5 = I2(i+1, j+1);\n",
    "\t\t\tint p6 = I2(i+1, j);\n",
    "\t\t\tint p7 = I2(i+1, j-1);\n",
    "\t\t\tint p8 = I2(i, j-1);\n",
    "\t\t\tint p9 = I2(i-1, j-1);\n",
    "\n",
    "\t\t\tint A  = (p2 == 0 && p3 == 1) + (p3 == 0 && p4 == 1) +\n",
    "\t\t\t         (p4 == 0 && p5 == 1) + (p5 == 0 && p6 == 1) +\n",
    "\t\t\t         (p6 == 0 && p7 == 1) + (p7 == 0 && p8 == 1) +\n",
    "\t\t\t         (p8 == 0 && p9 == 1) + (p9 == 0 && p2 == 1);\n",
    "\t\t\tint B  = p2 + p3 + p4 + p5 + p6 + p7 + p8 + p9;\n",
    "\t\t\tint m1 = iter == 0 ? (p2 * p4 * p6) : (p2 * p4 * p8);\n",
    "\t\t\tint m2 = iter == 0 ? (p4 * p6 * p8) : (p2 * p6 * p8);\n",
    "\n",
    "\t\t\tif (A == 1 && B >= 2 && B <= 6 && m1 == 0 && m2 == 0) {\n",
    "\t\t\t\tM2(i,j) = 1;\n",
    "\t\t\t}\n",
    "\t\t}\n",
    "\t} \n",
    "\t\"\"\"\n",
    "\n",
    "\tweave.inline(expr, [\"I\", \"iter\", \"M\"])\n",
    "\treturn (I & ~M)\n",
    "\n",
    "\n",
    "def thinning(src):\n",
    "\tdst = src.copy() / 255\n",
    "\tprev = np.zeros(src.shape[:2], np.uint8)\n",
    "\tdiff = None\n",
    "\n",
    "\twhile True:\n",
    "\t\tdst = _thinningIteration(dst, 0)\n",
    "\t\tdst = _thinningIteration(dst, 1)\n",
    "\t\tdiff = np.absolute(dst - prev)\n",
    "\t\tprev = dst.copy()\n",
    "\t\tif np.sum(diff) == 0:\n",
    "\t\t\tbreak\n",
    "\n",
    "\treturn dst * 255\n",
    "\n",
    "\tsrc = cv2.imread(\"kanji.png\")\n",
    "\tif src == None:\n",
    "\t\tsys.exit()\n",
    "\tbw = cv2.cvtColor(src, cv2.cv.CV_BGR2GRAY)\n",
    "\t_, bw2 = cv2.threshold(bw, 10, 255, cv2.THRESH_BINARY)\n",
    "\tbw2 = thinning(bw2)\n",
    "\tcv2.imshow(\"src\", bw)\n",
    "\tcv2.imshow(\"thinning\", bw2)\n",
    "\tcv2.waitKey()\n",
    "\n"
   ]
  }
 ],
 "metadata": {
  "kernelspec": {
   "display_name": "Python 2",
   "language": "python",
   "name": "python2"
  },
  "language_info": {
   "codemirror_mode": {
    "name": "ipython",
    "version": 2
   },
   "file_extension": ".py",
   "mimetype": "text/x-python",
   "name": "python",
   "nbconvert_exporter": "python",
   "pygments_lexer": "ipython2",
   "version": "2.7.13"
  }
 },
 "nbformat": 4,
 "nbformat_minor": 2
}
