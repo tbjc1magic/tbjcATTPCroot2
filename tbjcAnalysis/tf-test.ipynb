{
 "cells": [
  {
   "cell_type": "code",
   "execution_count": 3,
   "metadata": {
    "collapsed": true
   },
   "outputs": [],
   "source": [
    "import numpy as np\n",
    "import tensorflow as tf\n",
    "import time\n",
    "from skimage.draw import line_aa\n",
    "import scipy.misc\n",
    "import pylab as plt\n",
    "import cv2\n",
    "from PIL import Image\n",
    "from PIL import ImageDraw\n",
    "from IPython import display\n",
    "\n",
    "%matplotlib inline"
   ]
  },
  {
   "cell_type": "markdown",
   "metadata": {},
   "source": [
    "# initial variable in multiple graphs"
   ]
  },
  {
   "cell_type": "code",
   "execution_count": 27,
   "metadata": {},
   "outputs": [
    {
     "name": "stdout",
     "output_type": "stream",
     "text": [
      "None\n",
      "[-0.18768388 -0.29209611]\n",
      "None\n",
      "[ 0.00739956  0.18814752]\n"
     ]
    }
   ],
   "source": [
    "graph1 = tf.Graph()\n",
    "\n",
    "\n",
    "with graph1.as_default():\n",
    "    v1 = tf.Variable(tf.random_normal([2], stddev=0.35))\n",
    "    init_op1 = tf.global_variables_initializer()\n",
    "\n",
    "graph2 = tf.Graph()\n",
    "with graph2.as_default():\n",
    "    v2 = tf.Variable(tf.random_normal([2], stddev=0.35))\n",
    "    init_op2 = tf.global_variables_initializer()\n",
    "    \n",
    "sess1 = tf.Session(graph=graph1)\n",
    "sess2 = tf.Session(graph=graph2)\n",
    "\n",
    "print sess1.run(init_op1)\n",
    "print sess1.run(v1)\n",
    "print sess2.run(init_op2)\n",
    "print sess2.run(v2)"
   ]
  },
  {
   "cell_type": "markdown",
   "metadata": {},
   "source": [
    "# initial variable in multiple graphs using class object"
   ]
  },
  {
   "cell_type": "code",
   "execution_count": 26,
   "metadata": {},
   "outputs": [
    {
     "name": "stdout",
     "output_type": "stream",
     "text": [
      "[-0.05290949 -0.23938382]\n",
      "[ 0.46701887 -0.22313967]\n"
     ]
    }
   ],
   "source": [
    "\n",
    "class tbjcModel(object):\n",
    "    def __init__(self):\n",
    "        graph = tf.Graph()\n",
    "\n",
    "        with graph.as_default():\n",
    "            self.v = tf.Variable(tf.random_normal([2], stddev=0.35))\n",
    "            self.init_op = tf.global_variables_initializer()\n",
    "            \n",
    "        self.sess = tf.Session(graph=graph)\n",
    "\n",
    "model1 = tbjcModel()\n",
    "model2 = tbjcModel()\n",
    "\n",
    "model1.sess.run(model1.init_op)\n",
    "print model1.sess.run(model1.v)\n",
    "\n",
    "model2.sess.run(model2.init_op)\n",
    "print model2.sess.run(model2.v)"
   ]
  },
  {
   "cell_type": "code",
   "execution_count": null,
   "metadata": {
    "collapsed": true
   },
   "outputs": [],
   "source": []
  }
 ],
 "metadata": {
  "kernelspec": {
   "display_name": "Python 2",
   "language": "python",
   "name": "python2"
  },
  "language_info": {
   "codemirror_mode": {
    "name": "ipython",
    "version": 2
   },
   "file_extension": ".py",
   "mimetype": "text/x-python",
   "name": "python",
   "nbconvert_exporter": "python",
   "pygments_lexer": "ipython2",
   "version": "2.7.13"
  }
 },
 "nbformat": 4,
 "nbformat_minor": 2
}
