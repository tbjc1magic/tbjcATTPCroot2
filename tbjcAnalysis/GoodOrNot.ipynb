{
 "cells": [
  {
   "cell_type": "code",
   "execution_count": 1,
   "metadata": {
    "collapsed": true
   },
   "outputs": [],
   "source": [
    "from sqlalchemy import *\n",
    "import numpy as np\n",
    "import pylab as plt\n",
    "import pandas as pd\n",
    "from peakdetect import peakdetect\n",
    "%matplotlib inline"
   ]
  },
  {
   "cell_type": "code",
   "execution_count": 2,
   "metadata": {
    "collapsed": true
   },
   "outputs": [],
   "source": [
    "engine = create_engine('sqlite+pysqlite:///../SQL/72_8.db')"
   ]
  },
  {
   "cell_type": "code",
   "execution_count": 3,
   "metadata": {
    "collapsed": false,
    "scrolled": true
   },
   "outputs": [
    {
     "name": "stdout",
     "output_type": "stream",
     "text": [
      "178.257660866\n"
     ]
    }
   ],
   "source": [
    "import time\n",
    "start_time = time.time()\n",
    "ADCdf = pd.io.sql.read_sql(\"SELECT * FROM ADC\", engine)\n",
    "Hitdf = pd.io.sql.read_sql(\"SELECT * FROM Hit\", engine)\n",
    "PSAdf = pd.io.sql.read_sql(\"SELECT * FROM PSA\", engine)\n",
    "ProtoMapdf = pd.io.sql.read_sql(\"SELECT * FROM ProtoMap\", engine)\n",
    "#RawADCdf = pd.io.sql.read_sql(\"SELECT * FROM RawADC\", engine)\n",
    "end_time = time.time()\n",
    "print end_time-start_time"
   ]
  },
  {
   "cell_type": "code",
   "execution_count": 4,
   "metadata": {
    "collapsed": false
   },
   "outputs": [
    {
     "data": {
      "text/plain": [
       "<matplotlib.legend.Legend at 0x7fabce51ef10>"
      ]
     },
     "execution_count": 4,
     "metadata": {},
     "output_type": "execute_result"
    },
    {
     "data": {
      "image/png": "[encoded data removed]",
      "text/plain": [
       "<matplotlib.figure.Figure at 0x7fabce650d10>"
      ]
     },
     "metadata": {},
     "output_type": "display_data"
    }
   ],
   "source": [
    "EID = 200\n",
    "t1 = PSAdf.iloc[EID,3:].values\n",
    "sub1 = ADCdf[ADCdf['EventID']==EID]\n",
    "sub2 = sub1.iloc[:,3:][sub1.iloc[:,3:].max(axis=1)>100].sum(axis=0).values\n",
    "sub3 = sub1.iloc[:,3:][sub1.iloc[:,3:]>20].sum(axis=0).values\n",
    "#plt.plot(sub2)\n",
    "#plt.plot(sub1.iloc[:,3:].sum(axis=0).values,c='r')\n",
    "#plt.plot(sub3,c='b')\n",
    "\n",
    "plt.plot(sub2/max(sub2[10:-10])*max(t1[10:-10]),label='sub2')\n",
    "plt.plot(sub3/max(sub3[10:-10])*max(t1[10:-10]),label='sub3')\n",
    "#plt.plot(t1)\n",
    "plt.plot(t1,label='mesh')\n",
    "plt.legend()"
   ]
  },
  {
   "cell_type": "code",
   "execution_count": 5,
   "metadata": {
    "collapsed": false
   },
   "outputs": [],
   "source": [
    "def GetT0(EID):\n",
    "    sub1 = ADCdf[ADCdf['EventID']==EID]\n",
    "    mesh = sub1.iloc[:,3:][sub1.iloc[:,3:]>20].sum(axis=0).values\n",
    "    mesh_convol = np.convolve(mesh,([1]*10)[::-1],'same')\n",
    "    mesh_convol_grad = np.gradient(mesh_convol.real)\n",
    "    indexes = peakdetect(mesh_convol_grad,lookahead=10,delta=10)\n",
    "    pl = indexes[1]+indexes[0]\n",
    "    mp = max(np.abs(zip(*pl)[1]))\n",
    "    pl = [(x,y) for x,y in pl if abs(y)>0.08*mp and y<0]\n",
    "    return sorted(pl,key=lambda x:x[0])[-1][0]\n",
    "    #plt.plot(mesh*0.5)\n",
    "    #plt.plot(mesh_convol_grad)\n",
    "    #plt.plot(zip(*pl)[0],zip(*pl)[1],'+',c='r')\n",
    "#plt.legend()\n",
    "#print ADCdf['EventID'].unique()\n",
    "t0hist = {'EventID':[],'t0':[]}\n",
    "for i in ADCdf['EventID'].unique():\n",
    "    t0 = -100\n",
    "    try:\n",
    "        t0 = GetT0(i)\n",
    "    except:\n",
    "        pass\n",
    "    if t0<10:\n",
    "        t0hist['t0'].append(np.nan)\n",
    "    else:\n",
    "        t0hist['t0'].append(t0)\n",
    "    t0hist['EventID'].append(i)\n",
    "t0df = pd.DataFrame(t0hist)"
   ]
  },
  {
   "cell_type": "markdown",
   "metadata": {
    "collapsed": false
   },
   "source": [
    "def GetT0Plot(EID):\n",
    "    print EID\n",
    "    sub1 = ADCdf[ADCdf['EventID']==EID]\n",
    "    mesh_raw = sub1.iloc[:,3:].sum(axis=0).values\n",
    "    mesh = sub1.iloc[:,3:][sub1.iloc[:,3:].abs()>20].sum(axis=0).values\n",
    "    mesh_convol = np.convolve(mesh,([1]*10)[::-1],'same')\n",
    "    mesh_convol_grad = np.gradient(mesh_convol.real)\n",
    "    indexes = peakdetect(mesh_convol_grad,lookahead=10,delta=10)\n",
    "    #pl = indexes[1]+indexes[0]\n",
    "    #mp = max(np.abs(zip(*pl)[1]))\n",
    "    #pl = [(x,y) for x,y in pl if abs(y)>0.08*mp and y<0]\n",
    "    #print sorted(pl,key=lambda x:x[0])[-1][0]\n",
    "    plt.clf()\n",
    "    plt.plot(mesh_raw[10:-10]*0.3,label=\"raw\")\n",
    "    plt.plot(mesh[10:-10]*0.5,label=\"mesh\")\n",
    "    plt.plot(mesh_convol_grad[10:-10],label=\"grad\")\n",
    "    plt.legend()\n",
    "    plt.savefig('pics/'+str(EID)+\".png\")\n",
    "    #plt.plot(zip(*pl)[0],zip(*pl)[1],'+',c='r')\n",
    "tmp = t0df[t0df['t0'].isnull()] \n",
    "for i in tmp['EventID']:\n",
    "    GetT0Plot(i)"
   ]
  },
  {
   "cell_type": "code",
   "execution_count": 6,
   "metadata": {
    "collapsed": false
   },
   "outputs": [
    {
     "data": {
      "text/plain": [
       "(300, 500)"
      ]
     },
     "execution_count": 6,
     "metadata": {},
     "output_type": "execute_result"
    },
    {
     "data": {
      "image/png": "[encoded data removed]",
      "text/plain": [
       "<matplotlib.figure.Figure at 0x7fabce5e2a90>"
      ]
     },
     "metadata": {},
     "output_type": "display_data"
    }
   ],
   "source": [
    "t0df['t0'].hist(bins = np.arange(0,512,1))\n",
    "plt.gca().set_yscale('log')\n",
    "plt.gca().set_xlim([300,500])"
   ]
  },
  {
   "cell_type": "code",
   "execution_count": 7,
   "metadata": {
    "collapsed": true
   },
   "outputs": [],
   "source": [
    "#t0df.to_csv('72_8_t0.csv',index=False)"
   ]
  },
  {
   "cell_type": "code",
   "execution_count": null,
   "metadata": {
    "collapsed": true
   },
   "outputs": [],
   "source": []
  }
 ],
 "metadata": {
  "kernelspec": {
   "display_name": "Python 2",
   "language": "python",
   "name": "python2"
  },
  "language_info": {
   "codemirror_mode": {
    "name": "ipython",
    "version": 2
   },
   "file_extension": ".py",
   "mimetype": "text/x-python",
   "name": "python",
   "nbconvert_exporter": "python",
   "pygments_lexer": "ipython2",
   "version": "2.7.13"
  }
 },
 "nbformat": 4,
 "nbformat_minor": 2
}
