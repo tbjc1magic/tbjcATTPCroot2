{
 "cells": [
  {
   "cell_type": "code",
   "execution_count": 1,
   "metadata": {
    "collapsed": true
   },
   "outputs": [],
   "source": [
    "import numpy as np\n",
    "import tensorflow as tf\n",
    "import time\n",
    "from skimage.draw import line_aa\n",
    "import scipy.misc\n",
    "import pylab as plt\n",
    "import cv2\n",
    "from PIL import Image\n",
    "from PIL import ImageDraw\n",
    "from IPython import display\n",
    "\n",
    "%matplotlib inline"
   ]
  },
  {
   "cell_type": "code",
   "execution_count": 29,
   "metadata": {},
   "outputs": [
    {
     "data": {
      "text/plain": [
       "<matplotlib.collections.PathCollection at 0x7facd40eaad0>"
      ]
     },
     "execution_count": 29,
     "metadata": {},
     "output_type": "execute_result"
    },
    {
     "data": {
      "image/png": "[encoded data removed]",
      "text/plain": [
       "<matplotlib.figure.Figure at 0x7facd4182fd0>"
      ]
     },
     "metadata": {},
     "output_type": "display_data"
    }
   ],
   "source": [
    "def GenerateData(size = 1):\n",
    "\n",
    "    out_image = []\n",
    "    out_p = []\n",
    "    \n",
    "    for _ in range(size):\n",
    "\n",
    "        img = Image.new('L', (500,300), 0)  \n",
    "        draw = ImageDraw.Draw(img)\n",
    "\n",
    "        cx,cy=150,250\n",
    "        sx,sy  = 20,20\n",
    "        ay,ax = np.random.normal()*sx+cx, np.random.normal()*sy+cy\n",
    "        ly,lx = 20,20\n",
    "        bx,by = (np.random.normal()+1.5)*lx, (np.random.normal()+1.5)*ly\n",
    "        cx,cy = (np.random.normal()+1.5)*lx, -(np.random.normal()+1.5)*ly\n",
    "\n",
    "        dx,dy = np.random.normal()*5-150, np.random.normal()*2\n",
    "\n",
    "        draw.line([(int(ax), int(ay)),(int(bx+ax), int(by+ay))], fill=255, width=5)\n",
    "        draw.line([(int(ax), int(ay)),(int(cx+ax), int(cy+ay))], fill=255, width=5)\n",
    "        draw.line([(int(ax), int(ay)),(int(dx+ax), int(dy+ay))], fill=255, width=5)\n",
    "\n",
    "        image = np.asarray(img)\n",
    "        image = cv2.dilate(image, None, iterations=1)\n",
    "        image = cv2.blur(image,(5,5))\n",
    "        ret,image = cv2.threshold(image,127,255,0)\n",
    "        \n",
    "        #print image[:,:,None]\n",
    "        \n",
    "        out_image.append(image[:,:,None])\n",
    "        out_p.append([ax,ay])\n",
    "        \n",
    "    return np.array(out_image), np.array(out_p)\n",
    "\n",
    "image,p = GenerateData()\n",
    "    \n",
    "plt.imshow(image[0][:,:,0], cmap='gray');\n",
    "plt.scatter(*p[0])"
   ]
  },
  {
   "cell_type": "code",
   "execution_count": 36,
   "metadata": {},
   "outputs": [
    {
     "name": "stdout",
     "output_type": "stream",
     "text": [
      "(300, 500)\n"
     ]
    }
   ],
   "source": [
    "print image.shape"
   ]
  },
  {
   "cell_type": "code",
   "execution_count": 65,
   "metadata": {},
   "outputs": [],
   "source": [
    "hidden = [500,100,10]\n",
    "graph = tf.Graph()\n",
    "with graph.as_default():\n",
    "    FN=2\n",
    "    yd = 2\n",
    "    x = tf.placeholder(tf.float32,[None, 300,500,1])\n",
    "    y = tf.placeholder(tf.float32,[None, yd])\n",
    "\n",
    "    ## convolution \n",
    "    W = tf.get_variable(\"Wc1\", shape=[4,4,1,32], initializer=tf.contrib.layers.xavier_initializer())\n",
    "    b = tf.Variable(tf.zeros([32]))    \n",
    "    x_ = tf.nn.relu(tf.nn.conv2d(x, W, strides=[1, 4, 4, 1], padding='SAME'))\n",
    "    \n",
    "    ## max pooling\n",
    "    x_ = tf.nn.max_pool(x_, ksize=[1, 5, 5, 1], strides=[1, 5, 5, 1], padding='SAME')\n",
    "    \n",
    "\n",
    "    \n",
    "    x_ = tf.reshape(x_,[-1,15*25*32])\n",
    "    \n",
    "    bs = []\n",
    "    Ws = []\n",
    "\n",
    "    pre = 15*25*32\n",
    "    \n",
    "    for idx, s in enumerate(hidden):\n",
    "        W = tf.get_variable(\"W\"+str(idx), shape=[pre,s],initializer=tf.contrib.layers.xavier_initializer())\n",
    "        b = tf.Variable(tf.zeros([s]))\n",
    "        pre = s\n",
    "        Ws.append(W)\n",
    "        bs.append(b)     \n",
    "\n",
    "    W = tf.get_variable(\"Wy\", shape=[pre,yd],initializer=tf.contrib.layers.xavier_initializer())\n",
    "    b = tf.Variable(tf.zeros([yd]))\n",
    "    Ws.append(W)\n",
    "    bs.append(b)          \n",
    "\n",
    "    pre = x_\n",
    "    for W,b in zip(Ws[:-1],bs[:-1]):\n",
    "        pre = tf.nn.relu(tf.matmul(pre,W) + b)\n",
    "    \n",
    "    logits = tf.matmul(pre,Ws[-1])+bs[-1]\n",
    "    loss = tf.reduce_mean(tf.square(logits-y)) \n",
    "    optimizer = tf.train.AdamOptimizer(0.1).minimize(loss)\n",
    "    prediction = logits\n",
    "    \n",
    "    \n",
    "    init = tf.global_variables_initializer()"
   ]
  },
  {
   "cell_type": "code",
   "execution_count": null,
   "metadata": {},
   "outputs": [],
   "source": [
    "st =[]\n",
    "lo = []\n",
    "r_previous = None\n",
    "sess = tf.Session(graph=graph)\n",
    "\n",
    "sess.run(init)\n",
    "print('Initialized')\n",
    "\n",
    "for loop in range(3000):\n",
    "    x_,y_ = GenerateData(100)\n",
    "    feed_dict = {x:x_,y:y_}\n",
    "\n",
    "    _, l, predict = sess.run([optimizer,loss, prediction], feed_dict=feed_dict)\n",
    "\n",
    "    if loop %100 == 0:\n",
    "        st.append(loop)\n",
    "        lo.append(l)\n",
    "        plt.clf()\n",
    "        plt.plot(st,lo,'r',label='accuracy')\n",
    "        display.clear_output(wait=True)\n",
    "        display.display(plt.gcf())\n",
    "        print l"
   ]
  },
  {
   "cell_type": "code",
   "execution_count": 106,
   "metadata": {
    "scrolled": true
   },
   "outputs": [
    {
     "data": {
      "image/png": "[encoded data removed]",
      "text/plain": [
       "<matplotlib.figure.Figure at 0x7fac300a6590>"
      ]
     },
     "metadata": {},
     "output_type": "display_data"
    },
    {
     "name": "stdout",
     "output_type": "stream",
     "text": [
      "27.0232\n"
     ]
    },
    {
     "data": {
      "image/png": "[encoded data removed]",
      "text/plain": [
       "<matplotlib.figure.Figure at 0x7fac300a6590>"
      ]
     },
     "metadata": {},
     "output_type": "display_data"
    }
   ],
   "source": [
    "st =[]\n",
    "lo = []\n",
    "r_previous = None\n",
    "sess = tf.Session(graph=graph)\n",
    "\n",
    "sess.run(init_op)\n",
    "print('Initialized')\n",
    "\n",
    "for loop in range(3000):\n",
    "    x_,y_ = GenerateData(100)\n",
    "    feed_dict = {x:x_,y:y_}\n",
    "\n",
    "    _, l, predict = sess.run([optimizer,loss, prediction], feed_dict=feed_dict)\n",
    "\n",
    "    if loop %100 == 0:\n",
    "        st.append(loop)\n",
    "        lo.append(l)\n",
    "        plt.clf()\n",
    "        plt.plot(st,lo,'r',label='accuracy')\n",
    "        display.clear_output(wait=True)\n",
    "        display.display(plt.gcf())\n",
    "        print l #[y_[0]/500,y_[1]/300], l"
   ]
  },
  {
   "cell_type": "code",
   "execution_count": 118,
   "metadata": {},
   "outputs": [
    {
     "name": "stdout",
     "output_type": "stream",
     "text": [
      "0.687764\n"
     ]
    },
    {
     "data": {
      "image/png": "[encoded data removed]",
      "text/plain": [
       "<matplotlib.figure.Figure at 0x7fab3e0f5990>"
      ]
     },
     "metadata": {},
     "output_type": "display_data"
    }
   ],
   "source": [
    "\n",
    "x_,y_ = GenerateData()\n",
    "feed_dict = {x:x_.reshape(-1,300*500),y:y_}\n",
    "l, predict = sess.run([loss, prediction], feed_dict=feed_dict)\n",
    "\n",
    "plt.imshow(x_[0])\n",
    "plt.scatter(*predict[0])\n",
    "\n",
    "print l\n",
    "#print predict\n",
    "\n",
    "\n"
   ]
  },
  {
   "cell_type": "code",
   "execution_count": null,
   "metadata": {
    "collapsed": true
   },
   "outputs": [],
   "source": []
  }
 ],
 "metadata": {
  "kernelspec": {
   "display_name": "Python 2",
   "language": "python",
   "name": "python2"
  },
  "language_info": {
   "codemirror_mode": {
    "name": "ipython",
    "version": 2
   },
   "file_extension": ".py",
   "mimetype": "text/x-python",
   "name": "python",
   "nbconvert_exporter": "python",
   "pygments_lexer": "ipython2",
   "version": "2.7.13"
  }
 },
 "nbformat": 4,
 "nbformat_minor": 2
}
