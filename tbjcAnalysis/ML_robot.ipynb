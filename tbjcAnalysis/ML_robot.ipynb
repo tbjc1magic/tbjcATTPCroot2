{
 "cells": [
  {
   "cell_type": "code",
   "execution_count": 1,
   "metadata": {
    "collapsed": true
   },
   "outputs": [],
   "source": [
    "from sqlalchemy import *\n",
    "import numpy as np\n",
    "import pylab as plt\n",
    "import pandas as pd\n",
    "%matplotlib inline"
   ]
  },
  {
   "cell_type": "code",
   "execution_count": 2,
   "metadata": {
    "collapsed": true
   },
   "outputs": [],
   "source": [
    "engine = create_engine('sqlite+pysqlite:///../SQL/85_8.db')"
   ]
  },
  {
   "cell_type": "code",
   "execution_count": 3,
   "metadata": {
    "collapsed": false
   },
   "outputs": [
    {
     "name": "stdout",
     "output_type": "stream",
     "text": [
      "253.370811939\n"
     ]
    }
   ],
   "source": [
    "import time\n",
    "start_time = time.time()\n",
    "ADCdf = pd.io.sql.read_sql(\"SELECT * FROM ADC\", engine)\n",
    "Hitdf = pd.io.sql.read_sql(\"SELECT * FROM Hit\", engine)\n",
    "PSAdf = pd.io.sql.read_sql(\"SELECT * FROM PSA\", engine)\n",
    "ProtoMapdf = pd.io.sql.read_sql(\"SELECT * FROM ProtoMap\", engine)\n",
    "#RawADCdf = pd.io.sql.read_sql(\"SELECT * FROM RawADC\", engine)\n",
    "end_time = time.time()\n",
    "print end_time-start_time"
   ]
  },
  {
   "cell_type": "code",
   "execution_count": 5,
   "metadata": {
    "collapsed": false
   },
   "outputs": [
    {
     "data": {
      "text/plain": [
       "<matplotlib.legend.Legend at 0x7f6b41cf0710>"
      ]
     },
     "execution_count": 5,
     "metadata": {},
     "output_type": "execute_result"
    },
    {
     "data": {
      "image/png": "[encoded data removed]",
      "text/plain": [
       "<matplotlib.figure.Figure at 0x7f6b41dec8d0>"
      ]
     },
     "metadata": {},
     "output_type": "display_data"
    }
   ],
   "source": [
    "EID = 11\n",
    "t1 = PSAdf.iloc[EID,3:].values\n",
    "sub1 = ADCdf[ADCdf['EventID']==EID]\n",
    "totalc=sub1.iloc[:,3:][sub1.iloc[:,3:]>20].sum(axis=0).values\n",
    "plt.plot(totalc*max(t1[10:-10])/max(max(totalc[10:-10]),1),label='tbjcHit')\n",
    "plt.plot(t1,c='r',label='ATHit')\n",
    "plt.legend()"
   ]
  },
  {
   "cell_type": "code",
   "execution_count": null,
   "metadata": {
    "collapsed": true
   },
   "outputs": [],
   "source": []
  }
 ],
 "metadata": {
  "kernelspec": {
   "display_name": "Python 2",
   "language": "python",
   "name": "python2"
  },
  "language_info": {
   "codemirror_mode": {
    "name": "ipython",
    "version": 2
   },
   "file_extension": ".py",
   "mimetype": "text/x-python",
   "name": "python",
   "nbconvert_exporter": "python",
   "pygments_lexer": "ipython2",
   "version": "2.7.13"
  }
 },
 "nbformat": 4,
 "nbformat_minor": 2
}
