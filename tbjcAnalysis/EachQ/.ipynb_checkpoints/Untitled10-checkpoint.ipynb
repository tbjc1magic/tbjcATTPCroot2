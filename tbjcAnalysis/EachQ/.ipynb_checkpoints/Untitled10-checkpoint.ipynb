{
 "cells": [
  {
   "cell_type": "code",
   "execution_count": 157,
   "metadata": {
    "collapsed": true
   },
   "outputs": [],
   "source": [
    "from func import DataProcessor,TipFinder,VertexPos\n",
    "import seaborn as sns\n",
    "import numpy as np\n",
    "import pylab as plt\n",
    "import pandas as pd\n",
    "from scipy import stats\n",
    "import cv2\n",
    "import time\n",
    "import re\n",
    "import math\n",
    "from sklearn import mixture\n",
    "from skimage.transform import (hough_line, hough_line_peaks,\n",
    "                               probabilistic_hough_line)\n",
    "from sklearn import linear_model\n",
    "\n",
    "%matplotlib inline\n",
    "plt.rcParams['figure.figsize'] = (20, 20)"
   ]
  },
  {
   "cell_type": "code",
   "execution_count": 2,
   "metadata": {},
   "outputs": [
    {
     "name": "stdout",
     "output_type": "stream",
     "text": [
      "initialization will take some time\n",
      "141.674723864\n",
      "   PadNum        PadName     PadX      PadY  BinNum\n",
      "0       0  sector_center  0.00000  0.000000     257\n",
      "1       1      sector1_0  1.30108  0.947523       1\n",
      "2       2      sector2_0  2.18496  1.831410       2\n",
      "3       3      sector1_1  2.71529  2.361740       3\n",
      "4       4      sector2_1  3.59917  3.245620       4\n",
      "loading finished\n",
      "begin processing\n",
      "14.8214919567\n",
      "31.0944530964\n",
      "processing finished\n"
     ]
    }
   ],
   "source": [
    "dp = DataProcessor('../../data/SQL/10C/85_8.db','../../data/SQL/10C/ProtoMap.db')"
   ]
  },
  {
   "cell_type": "code",
   "execution_count": 312,
   "metadata": {
    "collapsed": true
   },
   "outputs": [],
   "source": [
    "EID=31\n",
    "t3 = dp.t3\n",
    "\n",
    "tmp = t3[(t3['EventID']==EID)&(t3['charge']>3)].copy()\n",
    "p = (tmp['PadNum']-1)%63+1\n",
    "\n",
    "tmp['PadPos'] = ((p-9)*(p>9)+p)*(tmp['PadNum']!=0)\n",
    "\n",
    "Q = [tmp[(tmp['PadX']>0)&(tmp['PadY']>0)] ,tmp[(tmp['PadX']<0)&(tmp['PadY']>0)],\n",
    "    tmp[(tmp['PadX']<0)&(tmp['PadY']<0)], tmp[(tmp['PadX']>0)&(tmp['PadY']<0)]]\n",
    "\n",
    "\n",
    "image1 = np.zeros([300,600])\n",
    "\n",
    "image1[(-Q[0]['PadPos'].values+151).astype(np.int), Q[0]['time'].values.astype(np.int)] =255\n",
    "image1[(Q[2]['PadPos'].values+150).astype(np.int), Q[2]['time'].values.astype(np.int)] =255\n",
    "\n",
    "image2 = np.zeros([300,600])\n",
    "\n",
    "image2[(-Q[1]['PadPos'].values+151).astype(np.int), Q[1]['time'].values.astype(np.int)] =255\n",
    "image2[(Q[3]['PadPos'].values+150).astype(np.int), Q[3]['time'].values.astype(np.int)] =255\n",
    "\n",
    "\n",
    "width,height = 300,600\n",
    "a = np.concatenate([np.arange(width/2,0,-1),np.arange(1,width/2+1,1)])\n",
    "weights = np.tile(a,height).reshape(height,width).T/150.0\n",
    "\n",
    "image1[:50,:] = 0\n",
    "image2[:50,:] = 0\n",
    "\n",
    "image1[-50:,:] = 0\n",
    "image2[-50:,:] = 0\n",
    "\n",
    "\n",
    "\n",
    "if np.sum(image1*image2*weights**4)>np.sum(image1*image2[::-1]*weights**4):\n",
    "    image = image1+image2#[::-1]\n",
    "else:\n",
    "    image = image1+image2[::-1]\n",
    "\n",
    "    \n",
    "image = np.where(image>100,255,0).astype(np.uint8)\n",
    "\n",
    "gray = cv2.GaussianBlur(image, (3, 3), 0)\n",
    "ret,im = cv2.threshold(gray.astype(np.uint8), 10, 255, cv2.THRESH_BINARY)\n",
    "\n",
    "thresh = im.astype(np.uint8)\n",
    "for _ in range(3):\n",
    "    thresh = cv2.erode(thresh, None, iterations=1)\n",
    "    thresh = cv2.dilate(thresh, None, iterations=1)\n",
    "image = thresh"
   ]
  },
  {
   "cell_type": "code",
   "execution_count": 313,
   "metadata": {},
   "outputs": [
    {
     "data": {
      "text/plain": [
       "<matplotlib.axes._subplots.AxesSubplot at 0x7f96f35d42d0>"
      ]
     },
     "execution_count": 313,
     "metadata": {},
     "output_type": "execute_result"
    },
    {
     "data": {
      "image/png": "[encoded data removed]",
      "text/plain": [
       "<matplotlib.figure.Figure at 0x7f96f38ad110>"
      ]
     },
     "metadata": {},
     "output_type": "display_data"
    }
   ],
   "source": [
    "sns.heatmap(image, xticklabels=30, yticklabels=30)\n",
    "#y,x = np.where(image1)\n",
    "#plt.scatter(x,y,c='b')\n",
    "#y,x = np.where(image2)\n",
    "#plt.scatter(x,y,c='r')\n"
   ]
  },
  {
   "cell_type": "code",
   "execution_count": 314,
   "metadata": {
    "collapsed": true
   },
   "outputs": [],
   "source": [
    "#pic, images = dp.Process1(9)"
   ]
  },
  {
   "cell_type": "code",
   "execution_count": 315,
   "metadata": {
    "collapsed": true
   },
   "outputs": [],
   "source": [
    "def Distance(contours,n1,n2):\n",
    "\n",
    "    c1,c2 = contours[n1], contours[n2]\n",
    "\n",
    "    c1,c2 = c1[:,0,:],c2[:,0,:]\n",
    "\n",
    "    m1 = np.repeat([c1],c2.shape[0],axis=0)\n",
    "    m2 = np.repeat([c2],c1.shape[0],axis=0)\n",
    "    t2 = np.transpose(m2,axes=(1,0,2))\n",
    "    diff = np.sqrt(np.sum(np.power(m1-t2,2),axis=2))\n",
    "\n",
    "    return np.min(diff)\n",
    "\n",
    "def Groups(contours):\n",
    "    r,a = [],[]\n",
    "    ## breadth first search\n",
    "    pool = range(len(contours))\n",
    "    area = 0\n",
    "    while pool:\n",
    "        seen = set([pool[0]])\n",
    "        ans = set([pool[0]])\n",
    "        sea = set([pool[0]])\n",
    "        area = cv2.contourArea(contours[pool[0]])\n",
    "\n",
    "\n",
    "        while sea:\n",
    "            nsea = set([])\n",
    "\n",
    "            for c in sea:\n",
    "                for n in pool:\n",
    "                    if n not in seen and Distance(contours,c,n)<40:\n",
    "                        #print Distance(c,n),Distance(c,n)<8\n",
    "                        area += cv2.contourArea(contours[n])\n",
    "                        ans.add(n)\n",
    "                        nsea.add(n)\n",
    "                        seen.add(n)\n",
    "            sea = nsea\n",
    "\n",
    "        pool = [_ for _ in pool if _ not in ans]\n",
    "\n",
    "\n",
    "        #print pool\n",
    "        a.append(area)\n",
    "        r.append(ans)\n",
    "\n",
    "    r = [[contours[__] for __ in _] for _ in r]\n",
    "\n",
    "    return zip(*[(x,y) for x,y in zip(r,a) if y>500])\n",
    "\n",
    "\n",
    "def TipFinder(thresh, debug_mode = 0):\n",
    "\n",
    "    thresh = np.copy(thresh)\n",
    "    if debug_mode: sns.heatmap(thresh[::-1], xticklabels=30, yticklabels=30)\n",
    "\n",
    "    m1, contours, hierarchy = cv2.findContours(thresh, cv2.RETR_TREE, cv2.CHAIN_APPROX_SIMPLE)\n",
    "\n",
    "    \n",
    "    gpc,gpa = Groups(contours)\n",
    "    gpc = [np.concatenate(g,axis=0) for g in gpc]\n",
    "    \n",
    "    if debug_mode: plt.scatter(gpc[0][:,0,0],gpc[0][:,0,1])\n",
    "    \n",
    "    cnt = gpc[np.argmax(gpa)]\n",
    "    hull = cv2.convexHull(cnt)\n",
    "    \n",
    "    if debug_mode: plt.plot(hull[:,0,0],hull[:,0,1],c='r')\n",
    "        \n",
    "    #############################\n",
    "    def area(*i):\n",
    "        a,b,c= hull[i,0]\n",
    "        return np.abs(np.cross(b-c,c-a))\n",
    "\n",
    "    A = 0;B = 1; C = 2; n=hull.shape[0]\n",
    "    bA= A; bB= B; bC= C #The \"best\" triple of points\n",
    "    while True: #loop A\n",
    "        while True: #loop B\n",
    "            while area(A, B, C) <= area(A, B, (C+1)%n): #loop C\n",
    "                C = (C+1)%n\n",
    "            if area(A, B, C) <= area(A, (B+1)%n, C): \n",
    "                B = (B+1)%n\n",
    "                continue\n",
    "            else:\n",
    "                break\n",
    "\n",
    "        if area(A, B, C) > area(bA, bB, bC):\n",
    "            bA = A; bB = B; bC = C\n",
    "\n",
    "        A = (A+1)%n\n",
    "        if A==B: B = (B+1)%n\n",
    "        if B==C: C = (C+1)%n\n",
    "        if A==0: break\n",
    "\n",
    "    if debug_mode: plt.scatter(hull[[bA,bB,bC],0,0],hull[[bA,bB,bC],0,1],marker='*', s=500,c='g')\n",
    "    \n",
    "    return hull[[bA,bB,bC],0]"
   ]
  },
  {
   "cell_type": "code",
   "execution_count": 316,
   "metadata": {},
   "outputs": [],
   "source": [
    "#points = TipFinder(image.astype(np.uint8),debug_mode=1)\n",
    "#xv,yv = points[points[:,0].argsort()][-1]\n",
    "\n",
    "#thresh = np.copy(image)\n",
    "#sns.heatmap(thresh[::-1], xticklabels=30, yticklabels=30)\n",
    "\n",
    "#m1, contours, hierarchy = cv2.findContours(thresh, cv2.RETR_TREE, cv2.CHAIN_APPROX_SIMPLE)\n",
    "\n",
    "\n",
    "#print contours"
   ]
  },
  {
   "cell_type": "code",
   "execution_count": 317,
   "metadata": {
    "collapsed": true
   },
   "outputs": [],
   "source": [
    "\n",
    "\n",
    "def AveDist(x,y,k,b):\n",
    "    return np.sum(np.abs(k*x+b-y)/(k*k+1))/x.shape[0]\n",
    "\n",
    "def r2(x,y,k,b):\n",
    "    return 1-np.sum(((x*k+b)-y)**2)/np.sum((y-np.mean(y))**2)\n",
    "\n",
    "def VertexPos(fits,pic,y0):\n",
    "    pic = np.copy(pic)\n",
    "    num_lines = sum([f[0]>60 for f in fits])\n",
    "    \n",
    "    if num_lines == 0: raise Exception('This is probably an unreacted beam')\n",
    "    fits = sorted(fits)[::-1]\n",
    "\n",
    "    k1,b1 = fits[0][1:3]\n",
    "    if num_lines==1:\n",
    "        return (y0-b1)/k1,y0\n",
    "    else:\n",
    "        k2,b2 = fits[1][1:3]\n",
    "        return (b2-b1)/(k1-k2), (k2*b1-k1*b2)/(k2-k1)\n",
    "\n",
    "        \n",
    "def GetFit(image_, part_thresh=60, err_thresh =1.2,spread_thresh=6):        \n",
    "\n",
    "    #print np.sum(image_>10)\n",
    "    if np.sum(image_>10) > part_thresh:\n",
    "        ys,xs = np.where(image_)\n",
    "        ransac = linear_model.RANSACRegressor()\n",
    "        ransac.fit(xs[:,None], ys)\n",
    "        inlier_mask = ransac.inlier_mask_\n",
    "        outlier_mask = np.logical_not(inlier_mask)\n",
    "        \n",
    "        #print 'aa', xs[inlier_mask].shape\n",
    "        #print 'aa', ys[inlier_mask].shape\n",
    "\n",
    "        #plt.scatter(xs[inlier_mask],ys[inlier_mask],c='r')\n",
    "        xs,ys = xs[inlier_mask],ys[inlier_mask]\n",
    "        try:\n",
    "\n",
    "            k,b = np.polyfit(xs,ys,1)\n",
    "            print AveDist(xs,ys,k,b)\n",
    "            print np.std(xs), np.std(ys)\n",
    "            if AveDist(xs,ys,k,b)<err_thresh and (np.std(xs)>spread_thresh or np.std(ys)>spread_thresh):\n",
    "                return (np.sum(image_>10),k,b,AveDist(xs,ys,k,b))\n",
    "            else:\n",
    "                return (0,0,0,100)\n",
    "        except:\n",
    "            return (0,0,0,100)\n",
    "\n",
    "    else:\n",
    "        return (0,0,0,100)\n",
    "        \n",
    "def GetRange(pic,debug_mode=0, center_width = 12, quadrant_thresh=100, center_thresh=800, \n",
    "             err_thresh =2, spread_thresh=6 ):\n",
    "    pic_ = np.copy(pic)\n",
    "\n",
    "    points = TipFinder(pic_,debug_mode)\n",
    "    xv,yv = points[points[:,0].argsort()][-1]\n",
    "    \n",
    "    #### get fit from each of the quadrant ###\n",
    "    fits = []\n",
    "    for idx in range(2):\n",
    "        image_ = np.copy(pic_)\n",
    "        if idx:\n",
    "            image_[int(yv)-center_width:,:] = 0\n",
    "        else:\n",
    "            image_[:int(yv)+center_width,:] = 0\n",
    "        \n",
    "        fits.append(GetFit(cv2.erode(image_, None, iterations=1),\n",
    "                    quadrant_thresh,err_thresh,spread_thresh))\n",
    "    #plt.clf()\n",
    "    #plt.cla()\n",
    "    #print 'here'\n",
    "    #sns.heatmap(image_[::-1], xticklabels=30, yticklabels=30)\n",
    "\n",
    "    #print GetFit(image_)\n",
    "    #print 'hereherehere'\n",
    "    #return\n",
    "    #print fits\n",
    "    ##### get the fitting from the center line ####\n",
    "    fit = fits[0] if fits[0][0]>quadrant_thresh and fits[0][-1]<err_thresh else fits[1]\n",
    "    if fit[0]>quadrant_thresh and fit[-1]<err_thresh:\n",
    "        y_,x_ = (150-fit[2])/fit[1],150\n",
    "        image_ = np.copy(pic_)\n",
    "        image_[:,:int(y_)] = 0  \n",
    "        #sns.heatmap(image_, xticklabels=30, yticklabels=30)\n",
    "        fits.append(GetFit(image_,center_thresh,err_thresh,spread_thresh))\n",
    "\n",
    "    else:\n",
    "        fits.append((0,0,0,100))\n",
    "\n",
    "    \n",
    "    #print fits\n",
    "    #return\n",
    "    ### process the fits according to each of the scenario\n",
    "    xc,yc = VertexPos(fits,pic,yv)\n",
    "    \n",
    "    if debug_mode:\n",
    "        for s_,k_,b_,r2_ in fits: \n",
    "            if s_>60 and r2_>0.5: plt.plot(np.linspace(0,600,2),b_+k_*np.linspace(0,600,2))\n",
    "        plt.scatter([xc],[yc],marker='o',s=300,c='r')\n",
    "    \n",
    "    return ((xc-xv)**2+(yc-yv)**2)**0.5\n"
   ]
  },
  {
   "cell_type": "code",
   "execution_count": 319,
   "metadata": {
    "scrolled": true
   },
   "outputs": [
    {
     "name": "stdout",
     "output_type": "stream",
     "text": [
      "1.06737258793\n",
      "2.55296701968 5.94649208993\n",
      "2.96546476526\n",
      "37.2082610519 4.46667742601\n"
     ]
    },
    {
     "ename": "Exception",
     "evalue": "This is probably an unreacted beam",
     "output_type": "error",
     "traceback": [
      "\u001b[0;31m---------------------------------------------------------------\u001b[0m",
      "\u001b[0;31mException\u001b[0m                     Traceback (most recent call last)",
      "\u001b[0;32m<ipython-input-319-49e80eb1df49>\u001b[0m in \u001b[0;36m<module>\u001b[0;34m()\u001b[0m\n\u001b[1;32m      2\u001b[0m \u001b[0;31m#pic, images = dp.Process1(9)\u001b[0m\u001b[0;34m\u001b[0m\u001b[0;34m\u001b[0m\u001b[0m\n\u001b[1;32m      3\u001b[0m \u001b[0;31m#sns.heatmap(pic[::-1], xticklabels=30, yticklabels=30)\u001b[0m\u001b[0;34m\u001b[0m\u001b[0;34m\u001b[0m\u001b[0m\n\u001b[0;32m----> 4\u001b[0;31m \u001b[0;32mprint\u001b[0m \u001b[0mGetRange\u001b[0m\u001b[0;34m(\u001b[0m\u001b[0mimage\u001b[0m\u001b[0;34m,\u001b[0m\u001b[0;36m1\u001b[0m\u001b[0;34m)\u001b[0m\u001b[0;34m\u001b[0m\u001b[0m\n\u001b[0m",
      "\u001b[0;32m<ipython-input-317-621fc53580be>\u001b[0m in \u001b[0;36mGetRange\u001b[0;34m(pic, debug_mode, center_width, quadrant_thresh, center_thresh, err_thresh, spread_thresh)\u001b[0m\n\u001b[1;32m     95\u001b[0m     \u001b[0;31m#return\u001b[0m\u001b[0;34m\u001b[0m\u001b[0;34m\u001b[0m\u001b[0m\n\u001b[1;32m     96\u001b[0m     \u001b[0;31m### process the fits according to each of the scenario\u001b[0m\u001b[0;34m\u001b[0m\u001b[0;34m\u001b[0m\u001b[0m\n\u001b[0;32m---> 97\u001b[0;31m     \u001b[0mxc\u001b[0m\u001b[0;34m,\u001b[0m\u001b[0myc\u001b[0m \u001b[0;34m=\u001b[0m \u001b[0mVertexPos\u001b[0m\u001b[0;34m(\u001b[0m\u001b[0mfits\u001b[0m\u001b[0;34m,\u001b[0m\u001b[0mpic\u001b[0m\u001b[0;34m,\u001b[0m\u001b[0myv\u001b[0m\u001b[0;34m)\u001b[0m\u001b[0;34m\u001b[0m\u001b[0m\n\u001b[0m\u001b[1;32m     98\u001b[0m \u001b[0;34m\u001b[0m\u001b[0m\n\u001b[1;32m     99\u001b[0m     \u001b[0;32mif\u001b[0m \u001b[0mdebug_mode\u001b[0m\u001b[0;34m:\u001b[0m\u001b[0;34m\u001b[0m\u001b[0m\n",
      "\u001b[0;32m<ipython-input-317-621fc53580be>\u001b[0m in \u001b[0;36mVertexPos\u001b[0;34m(fits, pic, y0)\u001b[0m\n\u001b[1;32m     11\u001b[0m     \u001b[0mnum_lines\u001b[0m \u001b[0;34m=\u001b[0m \u001b[0msum\u001b[0m\u001b[0;34m(\u001b[0m\u001b[0;34m[\u001b[0m\u001b[0mf\u001b[0m\u001b[0;34m[\u001b[0m\u001b[0;36m0\u001b[0m\u001b[0;34m]\u001b[0m\u001b[0;34m>\u001b[0m\u001b[0;36m60\u001b[0m \u001b[0;32mfor\u001b[0m \u001b[0mf\u001b[0m \u001b[0;32min\u001b[0m \u001b[0mfits\u001b[0m\u001b[0;34m]\u001b[0m\u001b[0;34m)\u001b[0m\u001b[0;34m\u001b[0m\u001b[0m\n\u001b[1;32m     12\u001b[0m \u001b[0;34m\u001b[0m\u001b[0m\n\u001b[0;32m---> 13\u001b[0;31m     \u001b[0;32mif\u001b[0m \u001b[0mnum_lines\u001b[0m \u001b[0;34m==\u001b[0m \u001b[0;36m0\u001b[0m\u001b[0;34m:\u001b[0m \u001b[0;32mraise\u001b[0m \u001b[0mException\u001b[0m\u001b[0;34m(\u001b[0m\u001b[0;34m'This is probably an unreacted beam'\u001b[0m\u001b[0;34m)\u001b[0m\u001b[0;34m\u001b[0m\u001b[0m\n\u001b[0m\u001b[1;32m     14\u001b[0m     \u001b[0mfits\u001b[0m \u001b[0;34m=\u001b[0m \u001b[0msorted\u001b[0m\u001b[0;34m(\u001b[0m\u001b[0mfits\u001b[0m\u001b[0;34m)\u001b[0m\u001b[0;34m[\u001b[0m\u001b[0;34m:\u001b[0m\u001b[0;34m:\u001b[0m\u001b[0;34m-\u001b[0m\u001b[0;36m1\u001b[0m\u001b[0;34m]\u001b[0m\u001b[0;34m\u001b[0m\u001b[0m\n\u001b[1;32m     15\u001b[0m \u001b[0;34m\u001b[0m\u001b[0m\n",
      "\u001b[0;31mException\u001b[0m: This is probably an unreacted beam"
     ]
    },
    {
     "data": {
      "image/png": "[encoded data removed]",
      "text/plain": [
       "<matplotlib.figure.Figure at 0x7f96f23e6390>"
      ]
     },
     "metadata": {},
     "output_type": "display_data"
    }
   ],
   "source": [
    "\n",
    "#pic, images = dp.Process1(9)\n",
    "#sns.heatmap(pic[::-1], xticklabels=30, yticklabels=30)\n",
    "print GetRange(image,1)"
   ]
  },
  {
   "cell_type": "code",
   "execution_count": null,
   "metadata": {
    "collapsed": true
   },
   "outputs": [],
   "source": [
    "\n",
    "((p-9)*(p>9)+p)"
   ]
  }
 ],
 "metadata": {
  "kernelspec": {
   "display_name": "Python 2",
   "language": "python",
   "name": "python2"
  },
  "language_info": {
   "codemirror_mode": {
    "name": "ipython",
    "version": 2
   },
   "file_extension": ".py",
   "mimetype": "text/x-python",
   "name": "python",
   "nbconvert_exporter": "python",
   "pygments_lexer": "ipython2",
   "version": "2.7.13"
  }
 },
 "nbformat": 4,
 "nbformat_minor": 2
}
