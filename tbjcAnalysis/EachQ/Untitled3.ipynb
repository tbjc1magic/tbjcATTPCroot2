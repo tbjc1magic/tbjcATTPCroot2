{
 "cells": [
  {
   "cell_type": "code",
   "execution_count": 1,
   "metadata": {},
   "outputs": [
    {
     "name": "stderr",
     "output_type": "stream",
     "text": [
      "IOPub data rate exceeded.\n",
      "The notebook server will temporarily stop sending output\n",
      "to the client in order to avoid crashing it.\n",
      "To change this limit, set the config variable\n",
      "`--NotebookApp.iopub_data_rate_limit`.\n"
     ]
    }
   ],
   "source": [
    "from sqlalchemy import *\n",
    "import numpy as np\n",
    "import pylab as plt\n",
    "import pandas as pd\n",
    "from scipy.ndimage.interpolation import shift\n",
    "from matplotlib.colors import LogNorm\n",
    "from scipy.interpolate import interp1d\n",
    "from scipy.optimize import newton\n",
    "import cv2\n",
    "from matplotlib.backends.backend_agg import FigureCanvasAgg as FigureCanvas\n",
    "import plotly\n",
    "plotly.offline.init_notebook_mode()\n",
    "import plotly.plotly as py\n",
    "from plotly.offline import iplot,plot\n",
    "import plotly.graph_objs as go\n",
    "import time\n",
    "import re\n",
    "import math\n",
    "import seaborn as sns\n",
    "\n",
    "from skimage.transform import (hough_line, hough_line_peaks,\n",
    "                               probabilistic_hough_line)\n",
    "import heapq\n",
    "%matplotlib inline"
   ]
  },
  {
   "cell_type": "code",
   "execution_count": 2,
   "metadata": {},
   "outputs": [
    {
     "name": "stdout",
     "output_type": "stream",
     "text": [
      "2.364579916\n",
      "   PadNum        PadName     PadX      PadY  BinNum\n",
      "0       0  sector_center  0.00000  0.000000     257\n",
      "1       1      sector1_0  1.30108  0.947523       1\n",
      "2       2      sector2_0  2.18496  1.831410       2\n",
      "3       3      sector1_1  2.71529  2.361740       3\n",
      "4       4      sector2_1  3.59917  3.245620       4\n"
     ]
    }
   ],
   "source": [
    "start_time = time.time()\n",
    "engine = create_engine('sqlite+pysqlite:///../../data/SQL/10C/85_8.db')\n",
    "ADCdf = pd.io.sql.read_sql(\"SELECT * FROM ADC limit 10000\", engine)\n",
    "end_time = time.time()\n",
    "print end_time-start_time\n",
    "\n",
    "engine = create_engine('sqlite+pysqlite:///../../data/SQL/10C/ProtoMap.db')\n",
    "ProtoMapdf = pd.io.sql.read_sql(\"SELECT * FROM ProtoMap\", engine)\n",
    "print ProtoMapdf.head()"
   ]
  },
  {
   "cell_type": "code",
   "execution_count": 3,
   "metadata": {},
   "outputs": [
    {
     "name": "stderr",
     "output_type": "stream",
     "text": [
      "/afs/crc.nd.edu/user/j/jlai1/.local/usr/share/anaconda2/lib/python2.7/site-packages/pandas/core/indexes/base.py:1612: UnicodeWarning:\n",
      "\n",
      "Unicode equal comparison failed to convert both arguments to Unicode - interpreting them as being unequal\n",
      "\n",
      "/afs/crc.nd.edu/user/j/jlai1/.local/usr/share/anaconda2/lib/python2.7/site-packages/pandas/core/indexes/base.py:1592: UnicodeWarning:\n",
      "\n",
      "Unicode equal comparison failed to convert both arguments to Unicode - interpreting them as being unequal\n",
      "\n"
     ]
    },
    {
     "name": "stdout",
     "output_type": "stream",
     "text": [
      "0.479150056839\n"
     ]
    },
    {
     "name": "stderr",
     "output_type": "stream",
     "text": [
      "/afs/crc.nd.edu/user/j/jlai1/.local/usr/share/anaconda2/lib/python2.7/site-packages/pandas/core/indexes/base.py:2393: UnicodeWarning:\n",
      "\n",
      "Unicode equal comparison failed to convert both arguments to Unicode - interpreting them as being unequal\n",
      "\n"
     ]
    }
   ],
   "source": [
    "start_time = time.time()\n",
    "ADCdf.columns = [np.uint16(_[1:]) if re.match('t\\d+',_) is not None else _ for _ in ADCdf.columns ]\n",
    "ADCdf['max'] = ADCdf.iloc[:,3+50:-50].max(axis=1)\n",
    "mask= (ADCdf.iloc[:,3:-1]>20) & (ADCdf.iloc[:,3:-1].gt(ADCdf['max']*0.2,axis=0))\n",
    "ADCdf.iloc[:,3:-1] = ADCdf.iloc[:,3:-1][mask].fillna(0)\n",
    "end_time = time.time()\n",
    "print end_time-start_time"
   ]
  },
  {
   "cell_type": "code",
   "execution_count": 4,
   "metadata": {},
   "outputs": [
    {
     "name": "stderr",
     "output_type": "stream",
     "text": [
      "/afs/crc.nd.edu/user/j/jlai1/.local/usr/share/anaconda2/lib/python2.7/site-packages/pandas/core/indexes/base.py:2549: UnicodeWarning:\n",
      "\n",
      "Unicode equal comparison failed to convert both arguments to Unicode - interpreting them as being unequal\n",
      "\n",
      "/afs/crc.nd.edu/user/j/jlai1/.local/usr/share/anaconda2/lib/python2.7/site-packages/pandas/core/indexes/base.py:1211: UnicodeWarning:\n",
      "\n",
      "Unicode equal comparison failed to convert both arguments to Unicode - interpreting them as being unequal\n",
      "\n"
     ]
    },
    {
     "name": "stdout",
     "output_type": "stream",
     "text": [
      "0.770384073257\n"
     ]
    }
   ],
   "source": [
    "start_time = time.time()\n",
    "n1 = [_ for _ in ADCdf.columns if type(_) is np.uint16]\n",
    "n2 = [_ for _ in ADCdf.columns if type(_) is not np.uint16]\n",
    "t2 = pd.melt(ADCdf.iloc[:],id_vars=n2,value_vars=n1).drop(['ID'],axis=1)\n",
    "t2.columns = ['EventID','PadNum','max','time','charge']\n",
    "t3 = pd.merge(t2[t2['charge']>20],ProtoMapdf,on='PadNum')[['EventID','PadNum','time','PadX','PadY','charge']]\n",
    "print time.time() - start_time"
   ]
  },
  {
   "cell_type": "code",
   "execution_count": 5,
   "metadata": {},
   "outputs": [
    {
     "data": {
      "text/plain": [
       "<matplotlib.axes._subplots.AxesSubplot at 0x7f4f5f028c10>"
      ]
     },
     "execution_count": 5,
     "metadata": {},
     "output_type": "execute_result"
    },
    {
     "data": {
      "image/png": "[encoded data removed]",
      "text/plain": [
       "<matplotlib.figure.Figure at 0x7f4f5f028890>"
      ]
     },
     "metadata": {},
     "output_type": "display_data"
    }
   ],
   "source": [
    "EID= 1\n",
    "tmp = t3[(t3['EventID']==EID)&(t3['charge']>3)].copy()\n",
    "p = (tmp['PadNum']-1)%63+1\n",
    "\n",
    "tmp['PadPos'] = ((p-9)*(p>9)+p)*(tmp['PadNum']!=0)\n",
    "\n",
    "Q1 = tmp[(tmp['PadX']>0)&(tmp['PadY']>0)]\n",
    "Q2 = tmp[(tmp['PadX']<0)&(tmp['PadY']>0)]\n",
    "Q3 = tmp[(tmp['PadX']<0)&(tmp['PadY']<0)]\n",
    "Q4 = tmp[(tmp['PadX']>0)&(tmp['PadY']<0)]\n",
    "\n",
    "\n",
    "image1 = np.zeros([300,600])\n",
    "\n",
    "image1[(-Q1['PadPos'].values+150).astype(np.int), Q1['time'].values.astype(np.int)] =255\n",
    "image1[(Q3['PadPos'].values+150).astype(np.int), Q3['time'].values.astype(np.int)] =255\n",
    "\n",
    "image2 = np.zeros([300,600])\n",
    "\n",
    "image2[(-Q2['PadPos'].values+150).astype(np.int), Q2['time'].values.astype(np.int)] =255\n",
    "image2[(Q4['PadPos'].values+150).astype(np.int), Q4['time'].values.astype(np.int)] =255\n",
    "\n",
    "if np.sum(image1-image2)>0:\n",
    "    image = image1 \n",
    "else:\n",
    "    image = image2\n",
    "\n",
    "\n",
    "########################\n",
    "\n",
    "gray = cv2.GaussianBlur(image, (3, 3), 0)\n",
    "ret,im = cv2.threshold(gray.astype(np.uint8), 10, 255, cv2.THRESH_BINARY)\n",
    "\n",
    "thresh = im.astype(np.uint8)\n",
    "for _ in range(3):\n",
    "    thresh = cv2.erode(thresh, None, iterations=1)\n",
    "    thresh = cv2.dilate(thresh, None, iterations=1)\n",
    "\n",
    "sns.heatmap(thresh)"
   ]
  },
  {
   "cell_type": "code",
   "execution_count": null,
   "metadata": {
    "collapsed": true
   },
   "outputs": [],
   "source": []
  }
 ],
 "metadata": {
  "kernelspec": {
   "display_name": "Python 2",
   "language": "python",
   "name": "python2"
  },
  "language_info": {
   "codemirror_mode": {
    "name": "ipython",
    "version": 2
   },
   "file_extension": ".py",
   "mimetype": "text/x-python",
   "name": "python",
   "nbconvert_exporter": "python",
   "pygments_lexer": "ipython2",
   "version": "2.7.13"
  }
 },
 "nbformat": 4,
 "nbformat_minor": 2
}
