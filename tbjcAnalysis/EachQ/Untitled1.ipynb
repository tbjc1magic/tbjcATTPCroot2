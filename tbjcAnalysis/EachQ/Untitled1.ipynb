{
 "cells": [
  {
   "cell_type": "code",
   "execution_count": 1,
   "metadata": {
    "collapsed": true
   },
   "outputs": [],
   "source": [
    "from func import DataProcessor,TipFinder,VertexPos\n",
    "import seaborn as sns\n",
    "from plotly.offline import iplot,plot\n",
    "import numpy as np\n",
    "import pylab as plt\n",
    "import pandas as pd\n",
    "import cv2\n",
    "%matplotlib inline\n"
   ]
  },
  {
   "cell_type": "code",
   "execution_count": 2,
   "metadata": {},
   "outputs": [
    {
     "name": "stdout",
     "output_type": "stream",
     "text": [
      "initialization will take some time\n",
      "6.27566599846\n",
      "   PadNum        PadName     PadX      PadY  BinNum\n",
      "0       0  sector_center  0.00000  0.000000     257\n",
      "1       1      sector1_0  1.30108  0.947523       1\n",
      "2       2      sector2_0  2.18496  1.831410       2\n",
      "3       3      sector1_1  2.71529  2.361740       3\n",
      "4       4      sector2_1  3.59917  3.245620       4\n",
      "loading finished\n",
      "begin processing\n"
     ]
    },
    {
     "name": "stderr",
     "output_type": "stream",
     "text": [
      "/afs/crc.nd.edu/user/j/jlai1/.local/usr/share/anaconda2/lib/python2.7/site-packages/pandas/core/indexes/base.py:1612: UnicodeWarning:\n",
      "\n",
      "Unicode equal comparison failed to convert both arguments to Unicode - interpreting them as being unequal\n",
      "\n",
      "/afs/crc.nd.edu/user/j/jlai1/.local/usr/share/anaconda2/lib/python2.7/site-packages/pandas/core/indexes/base.py:1592: UnicodeWarning:\n",
      "\n",
      "Unicode equal comparison failed to convert both arguments to Unicode - interpreting them as being unequal\n",
      "\n",
      "/afs/crc.nd.edu/user/j/jlai1/.local/usr/share/anaconda2/lib/python2.7/site-packages/pandas/core/indexes/base.py:2393: UnicodeWarning:\n",
      "\n",
      "Unicode equal comparison failed to convert both arguments to Unicode - interpreting them as being unequal\n",
      "\n",
      "/afs/crc.nd.edu/user/j/jlai1/.local/usr/share/anaconda2/lib/python2.7/site-packages/pandas/core/indexes/base.py:2549: UnicodeWarning:\n",
      "\n",
      "Unicode equal comparison failed to convert both arguments to Unicode - interpreting them as being unequal\n",
      "\n",
      "/afs/crc.nd.edu/user/j/jlai1/.local/usr/share/anaconda2/lib/python2.7/site-packages/pandas/core/indexes/base.py:1211: UnicodeWarning:\n",
      "\n",
      "Unicode equal comparison failed to convert both arguments to Unicode - interpreting them as being unequal\n",
      "\n"
     ]
    },
    {
     "name": "stdout",
     "output_type": "stream",
     "text": [
      "1.01797485352\n",
      "2.08123993874\n",
      "processing finished\n"
     ]
    }
   ],
   "source": [
    "dp = DataProcessor('../../data/SQL/10Be/0160_0001.db','../../data/SQL/10Be/ProtoMap.db')"
   ]
  },
  {
   "cell_type": "code",
   "execution_count": null,
   "metadata": {},
   "outputs": [],
   "source": [
    "EID = 0\n",
    "tmp = dp.t3[(dp.t3['EventID']==EID)&(dp.t3['charge']>3)].copy()\n",
    "p = (tmp['PadNum']-1)%63+1\n",
    "\n",
    "tmp['PadPos'] = ((p-9)*(p>9)+p)*(tmp['PadNum']!=0)\n",
    "\n",
    "Q1 = tmp[(tmp['PadX']>0)&(tmp['PadY']>0)]\n",
    "Q2 = tmp[(tmp['PadX']<0)&(tmp['PadY']>0)]\n",
    "Q3 = tmp[(tmp['PadX']<0)&(tmp['PadY']<0)]\n",
    "Q4 = tmp[(tmp['PadX']>0)&(tmp['PadY']<0)]\n",
    "\n",
    "\n",
    "image1 = np.zeros([300,600])\n",
    "image1[(Q1['PadPos'].values+150).astype(np.int), Q1['time'].values.astype(np.int)] =255\n",
    "\n",
    "image2 = np.zeros([300,600])\n",
    "image1[(Q3['PadPos'].values+150).astype(np.int), Q3['time'].values.astype(np.int)] =255\n",
    "\n",
    "image3 = np.zeros([300,600])\n",
    "image3[(Q2['PadPos'].values+150).astype(np.int), Q2['time'].values.astype(np.int)] =255\n",
    "\n",
    "image4 = np.zeros([300,600])\n",
    "image3[(Q4['PadPos'].values+150).astype(np.int), Q4['time'].values.astype(np.int)] =255"
   ]
  },
  {
   "cell_type": "code",
   "execution_count": null,
   "metadata": {},
   "outputs": [],
   "source": [
    "plt.figure(figsize=(20,20))\n",
    "\n",
    "sns.heatmap(image3)\n"
   ]
  },
  {
   "cell_type": "code",
   "execution_count": null,
   "metadata": {},
   "outputs": [],
   "source": [
    "plt.figure(figsize=(20,20))\n",
    "pic = dp.Process(2)\n",
    "sns.heatmap(pic)\n"
   ]
  },
  {
   "cell_type": "code",
   "execution_count": null,
   "metadata": {},
   "outputs": [],
   "source": [
    "pic = dp.Process(233)\n",
    "sns.heatmap(pic[::-1], xticklabels=30, yticklabels=30)\n",
    "score,y0,y1 = VertexPos(pic)\n",
    "points = TipFinder(pic)\n",
    "x,y= points[points[:,0].argsort()][-1]\n",
    "\n",
    "print x -  600/(y1-y0)*(y-y0)\n",
    "\n",
    "plt.plot((0, pic.shape[1]), (y0, y1), '-r')\n",
    "plt.plot(*points[[0,1,2,0]].T)\n",
    "plt.plot([600/(y1-y0)*(y-y0),x],[y,y],c='g',linewidth=5)"
   ]
  },
  {
   "cell_type": "code",
   "execution_count": 3,
   "metadata": {},
   "outputs": [],
   "source": [
    "EID=1\n",
    "\n",
    "tmp = dp.t3[(dp.t3['EventID']==EID)&(dp.t3['charge']>3)].copy()\n",
    "p = (tmp['PadNum']-1)%63+1\n",
    "\n",
    "tmp['PadPos'] = ((p-9)*(p>9)+p)*(tmp['PadNum']!=0)\n",
    "\n",
    "Q1 = tmp[(tmp['PadX']>0)&(tmp['PadY']>0)]\n",
    "Q2 = tmp[(tmp['PadX']<0)&(tmp['PadY']>0)]\n",
    "Q3 = tmp[(tmp['PadX']<0)&(tmp['PadY']<0)]\n",
    "Q4 = tmp[(tmp['PadX']>0)&(tmp['PadY']<0)]\n",
    "\n",
    "\n",
    "image1 = np.zeros([300,600])\n",
    "\n",
    "image1[(-Q1['PadPos'].values+150).astype(np.int), Q1['time'].values.astype(np.int)] =255\n",
    "image1[(Q3['PadPos'].values+150).astype(np.int), Q3['time'].values.astype(np.int)] =255\n",
    "\n",
    "image2 = np.zeros([300,600])\n",
    "\n",
    "image2[(-Q2['PadPos'].values+150).astype(np.int), Q2['time'].values.astype(np.int)] =255\n",
    "image2[(Q4['PadPos'].values+150).astype(np.int), Q4['time'].values.astype(np.int)] =255\n",
    "\n",
    "if np.sum(image1-image2)>0:\n",
    "    image = image1 \n",
    "else:\n",
    "    image = image2\n",
    "\n",
    "\n",
    "########################\n",
    "\n",
    "gray = cv2.GaussianBlur(image, (3, 3), 0)\n",
    "ret,im = cv2.threshold(gray.astype(np.uint8), 10, 255, cv2.THRESH_BINARY)\n",
    "\n",
    "thresh = im.astype(np.uint8)\n",
    "for _ in range(3):\n",
    "    thresh = cv2.erode(thresh, None, iterations=1)\n",
    "    thresh = cv2.dilate(thresh, None, iterations=1)\n",
    "\n"
   ]
  },
  {
   "cell_type": "code",
   "execution_count": 4,
   "metadata": {},
   "outputs": [
    {
     "data": {
      "text/plain": [
       "<matplotlib.image.AxesImage at 0x7f931f2553d0>"
      ]
     },
     "execution_count": 4,
     "metadata": {},
     "output_type": "execute_result"
    },
    {
     "data": {
      "image/png": "[encoded data removed]",
      "text/plain": [
       "<matplotlib.figure.Figure at 0x7f931f16ebd0>"
      ]
     },
     "metadata": {},
     "output_type": "display_data"
    }
   ],
   "source": [
    "plt.imshow(thresh)"
   ]
  },
  {
   "cell_type": "code",
   "execution_count": null,
   "metadata": {
    "collapsed": true
   },
   "outputs": [],
   "source": []
  }
 ],
 "metadata": {
  "kernelspec": {
   "display_name": "Python 2",
   "language": "python",
   "name": "python2"
  },
  "language_info": {
   "codemirror_mode": {
    "name": "ipython",
    "version": 2
   },
   "file_extension": ".py",
   "mimetype": "text/x-python",
   "name": "python",
   "nbconvert_exporter": "python",
   "pygments_lexer": "ipython2",
   "version": "2.7.13"
  }
 },
 "nbformat": 4,
 "nbformat_minor": 2
}
