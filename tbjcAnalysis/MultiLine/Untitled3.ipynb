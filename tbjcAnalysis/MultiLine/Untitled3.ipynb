{
 "cells": [
  {
   "cell_type": "code",
   "execution_count": 1,
   "metadata": {
    "collapsed": true
   },
   "outputs": [],
   "source": [
    "import numpy as np"
   ]
  },
  {
   "cell_type": "code",
   "execution_count": 4,
   "metadata": {
    "collapsed": true
   },
   "outputs": [],
   "source": [
    "games = ['A>B','B>C']\n",
    "teams = 'ABC'\n",
    "rating = {'A':2,'B':2,'C':2,}"
   ]
  },
  {
   "cell_type": "code",
   "execution_count": 5,
   "metadata": {
    "collapsed": true
   },
   "outputs": [],
   "source": [
    "def Elo(g):\n",
    "    r1,r2 = rating[g[0]],rating[g[-1]]\n",
    "    R1,R2 = 10**r1,10**r2\n",
    "    E1,E2 = R1/(R1+R2),R2/(R1+R2)\n",
    "    \n",
    "    if g[1] == '=':\n",
    "        S1,S2 = 0.5,0.5\n",
    "    \n",
    "    if g[1] == '>':\n",
    "        S1,S2 = 1,0\n",
    "        \n",
    "    if g[1] == '<':\n",
    "        S1,S2 = 0,1\n",
    "    K = 0.1\n",
    "    \n",
    "    r1,r2 = r1+K*(S1-E1), r2+K*(S2-E2)\n",
    "    \n",
    "    rating[g[0]],rating[g[-1]] = r1,r2\n",
    "\n"
   ]
  },
  {
   "cell_type": "code",
   "execution_count": 57,
   "metadata": {},
   "outputs": [],
   "source": [
    "for _ in range(10000000):\n",
    "    for g in games:\n",
    "        Elo(g)\n"
   ]
  },
  {
   "cell_type": "code",
   "execution_count": 58,
   "metadata": {},
   "outputs": [
    {
     "data": {
      "text/plain": [
       "{'A': 7.397287144194448, 'B': 1.0333333549601935, 'C': -5.330620499158033}"
      ]
     },
     "execution_count": 58,
     "metadata": {},
     "output_type": "execute_result"
    }
   ],
   "source": [
    "rating"
   ]
  },
  {
   "cell_type": "code",
   "execution_count": null,
   "metadata": {
    "collapsed": true
   },
   "outputs": [],
   "source": []
  }
 ],
 "metadata": {
  "kernelspec": {
   "display_name": "Python 2",
   "language": "python",
   "name": "python2"
  },
  "language_info": {
   "codemirror_mode": {
    "name": "ipython",
    "version": 2
   },
   "file_extension": ".py",
   "mimetype": "text/x-python",
   "name": "python",
   "nbconvert_exporter": "python",
   "pygments_lexer": "ipython2",
   "version": "2.7.13"
  }
 },
 "nbformat": 4,
 "nbformat_minor": 2
}
