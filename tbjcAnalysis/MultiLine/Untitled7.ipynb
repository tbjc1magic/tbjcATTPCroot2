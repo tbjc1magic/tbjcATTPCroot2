{
 "cells": [
  {
   "cell_type": "code",
   "execution_count": 1,
   "metadata": {
    "collapsed": true
   },
   "outputs": [],
   "source": [
    "from func import DataProcessor,TipFinder,VertexPos\n",
    "import seaborn as sns\n",
    "from plotly.offline import iplot,plot\n",
    "import numpy as np\n",
    "import pylab as plt\n",
    "import pandas as pd\n",
    "%matplotlib inline"
   ]
  },
  {
   "cell_type": "code",
   "execution_count": 2,
   "metadata": {},
   "outputs": [
    {
     "name": "stdout",
     "output_type": "stream",
     "text": [
      "initialization will take some time\n",
      "0.75205206871\n",
      "   PadNum        PadName     PadX      PadY  BinNum\n",
      "0       0  sector_center  0.00000  0.000000     257\n",
      "1       1      sector1_0  1.30108  0.947523       1\n",
      "2       2      sector2_0  2.18496  1.831410       2\n",
      "3       3      sector1_1  2.71529  2.361740       3\n",
      "4       4      sector2_1  3.59917  3.245620       4\n",
      "loading finished\n",
      "begin processing\n",
      "0.182301998138\n"
     ]
    },
    {
     "name": "stderr",
     "output_type": "stream",
     "text": [
      "/afs/crc.nd.edu/user/j/jlai1/.local/usr/share/anaconda2/lib/python2.7/site-packages/pandas/indexes/base.py:1396: UnicodeWarning:\n",
      "\n",
      "Unicode equal comparison failed to convert both arguments to Unicode - interpreting them as being unequal\n",
      "\n",
      "/afs/crc.nd.edu/user/j/jlai1/.local/usr/share/anaconda2/lib/python2.7/site-packages/pandas/indexes/base.py:2134: UnicodeWarning:\n",
      "\n",
      "Unicode equal comparison failed to convert both arguments to Unicode - interpreting them as being unequal\n",
      "\n",
      "/afs/crc.nd.edu/user/j/jlai1/.local/usr/share/anaconda2/lib/python2.7/site-packages/pandas/indexes/base.py:1100: UnicodeWarning:\n",
      "\n",
      "Unicode equal comparison failed to convert both arguments to Unicode - interpreting them as being unequal\n",
      "\n",
      "/afs/crc.nd.edu/user/j/jlai1/.local/usr/share/anaconda2/lib/python2.7/site-packages/pandas/indexes/base.py:2286: UnicodeWarning:\n",
      "\n",
      "Unicode equal comparison failed to convert both arguments to Unicode - interpreting them as being unequal\n",
      "\n"
     ]
    },
    {
     "name": "stdout",
     "output_type": "stream",
     "text": [
      "0.172726869583\n",
      "processing finished\n"
     ]
    }
   ],
   "source": [
    "## two relative paths to data and map\n",
    "\n",
    "dp = DataProcessor('../../data/SQL/10Be/0160_0001.db','../../data/SQL/10Be/ProtoMap.db')"
   ]
  },
  {
   "cell_type": "code",
   "execution_count": 9,
   "metadata": {},
   "outputs": [
    {
     "name": "stdout",
     "output_type": "stream",
     "text": [
      "169.87322815\n"
     ]
    },
    {
     "data": {
      "text/plain": [
       "[<matplotlib.lines.Line2D at 0x7f59a5a9f510>]"
      ]
     },
     "execution_count": 9,
     "metadata": {},
     "output_type": "execute_result"
    },
    {
     "data": {
      "image/png": "[encoded data removed]",
      "text/plain": [
       "<matplotlib.figure.Figure at 0x7f59f20f0cd0>"
      ]
     },
     "metadata": {},
     "output_type": "display_data"
    }
   ],
   "source": [
    "pic = dp.Process(3)\n",
    "sns.heatmap(pic[::-1], xticklabels=30, yticklabels=30)\n",
    "score,y0,y1 = VertexPos(pic)\n",
    "points = TipFinder(pic)\n",
    "x,y= points[points[:,0].argsort()][-1]\n",
    "\n",
    "print x -  600/(y1-y0)*(y-y0)\n",
    "\n",
    "plt.plot((0, pic.shape[1]), (y0, y1), '-r')\n",
    "plt.plot(*points[[0,1,2,0]].T)\n",
    "plt.plot([600/(y1-y0)*(y-y0),x],[y,y],c='g',linewidth=5)"
   ]
  },
  {
   "cell_type": "code",
   "execution_count": null,
   "metadata": {
    "collapsed": true
   },
   "outputs": [],
   "source": []
  }
 ],
 "metadata": {
  "kernelspec": {
   "display_name": "Python 2",
   "language": "python",
   "name": "python2"
  },
  "language_info": {
   "codemirror_mode": {
    "name": "ipython",
    "version": 2
   },
   "file_extension": ".py",
   "mimetype": "text/x-python",
   "name": "python",
   "nbconvert_exporter": "python",
   "pygments_lexer": "ipython2",
   "version": "2.7.13"
  }
 },
 "nbformat": 4,
 "nbformat_minor": 2
}
