{
 "cells": [
  {
   "cell_type": "code",
   "execution_count": 1,
   "metadata": {
    "collapsed": true
   },
   "outputs": [],
   "source": [
    "from sklearn.decomposition import TruncatedSVD"
   ]
  },
  {
   "cell_type": "code",
   "execution_count": 2,
   "metadata": {
    "collapsed": true
   },
   "outputs": [],
   "source": [
    "import numpy as np"
   ]
  },
  {
   "cell_type": "code",
   "execution_count": 22,
   "metadata": {
    "collapsed": true
   },
   "outputs": [],
   "source": [
    "a = np.array([[0,2,0,3],[-2,0,1,0],[0,-1,0,1],[-3,0,-1,0]])"
   ]
  },
  {
   "cell_type": "code",
   "execution_count": 23,
   "metadata": {},
   "outputs": [],
   "source": [
    "svd = TruncatedSVD(n_components=3, n_iter=7, random_state=42)"
   ]
  },
  {
   "cell_type": "code",
   "execution_count": 24,
   "metadata": {},
   "outputs": [
    {
     "data": {
      "text/plain": [
       "TruncatedSVD(algorithm='randomized', n_components=3, n_iter=7,\n",
       "       random_state=42, tol=0.0)"
      ]
     },
     "execution_count": 24,
     "metadata": {},
     "output_type": "execute_result"
    }
   ],
   "source": [
    "svd.fit(a)"
   ]
  },
  {
   "cell_type": "code",
   "execution_count": 25,
   "metadata": {},
   "outputs": [
    {
     "data": {
      "text/plain": [
       "array([[ -9.95959314e-01,  -7.97633917e-17,  -8.98055953e-02,\n",
       "          0.00000000e+00],\n",
       "       [  0.00000000e+00,   5.25731112e-01,  -4.44089210e-16,\n",
       "          8.50650808e-01],\n",
       "       [ -8.98055953e-02,   8.84589570e-16,   9.95959314e-01,\n",
       "         -0.00000000e+00]])"
      ]
     },
     "execution_count": 25,
     "metadata": {},
     "output_type": "execute_result"
    }
   ],
   "source": [
    "svd.components_"
   ]
  },
  {
   "cell_type": "code",
   "execution_count": 26,
   "metadata": {},
   "outputs": [
    {
     "data": {
      "text/plain": [
       "(array([[  0.00000000e+00,  -9.95959314e-01,   8.98055953e-02,\n",
       "          -2.77555756e-16],\n",
       "        [  5.25731112e-01,   2.40775052e-16,  -1.95797359e-17,\n",
       "          -8.50650808e-01],\n",
       "        [  0.00000000e+00,  -8.98055953e-02,  -9.95959314e-01,\n",
       "           0.00000000e+00],\n",
       "        [  8.50650808e-01,  -8.29266323e-17,   8.79431260e-18,\n",
       "           5.25731112e-01]]),\n",
       " array([ 3.61803399,  3.61803399,  1.38196601,  1.38196601]),\n",
       " array([[-0.99595931,  0.        , -0.0898056 ,  0.        ],\n",
       "        [ 0.        , -0.52573111,  0.        , -0.85065081],\n",
       "        [-0.        ,  0.85065081,  0.        , -0.52573111],\n",
       "        [ 0.0898056 ,  0.        , -0.99595931,  0.        ]]))"
      ]
     },
     "execution_count": 26,
     "metadata": {},
     "output_type": "execute_result"
    }
   ],
   "source": [
    "np.linalg.svd(a)"
   ]
  },
  {
   "cell_type": "code",
   "execution_count": null,
   "metadata": {
    "collapsed": true
   },
   "outputs": [],
   "source": []
  }
 ],
 "metadata": {
  "kernelspec": {
   "display_name": "Python 2",
   "language": "python",
   "name": "python2"
  },
  "language_info": {
   "codemirror_mode": {
    "name": "ipython",
    "version": 2
   },
   "file_extension": ".py",
   "mimetype": "text/x-python",
   "name": "python",
   "nbconvert_exporter": "python",
   "pygments_lexer": "ipython2",
   "version": "2.7.13"
  }
 },
 "nbformat": 4,
 "nbformat_minor": 2
}
