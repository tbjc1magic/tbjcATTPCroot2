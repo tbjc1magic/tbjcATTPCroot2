{
 "cells": [
  {
   "cell_type": "code",
   "execution_count": 20,
   "metadata": {},
   "outputs": [],
   "source": [
    "from collections import defaultdict\n",
    "class Solution(object):\n",
    "    def calcEquation(self, equations, values, queries):\n",
    "        \"\"\"\n",
    "        :type equations: List[List[str]]\n",
    "        :type values: List[float]\n",
    "        :type queries: List[List[str]]\n",
    "        :rtype: List[float]\n",
    "        \"\"\"\n",
    "        \n",
    "        equations.extend([e[::-1] for e in equations])\n",
    "        values.extend([1.0/v for v in values])\n",
    "        \n",
    "        d = dict([(tuple(e),v) for e,v in zip(equations,values)])\n",
    "        \n",
    "        graph = defaultdict(set)\n",
    "        \n",
    "        \n",
    "        for a,b in d.keys():\n",
    "            graph[a].add(b)\n",
    "        \n",
    "        \n",
    "        def helper(cur, tar, vis, value):\n",
    "            if cur not in graph: return\n",
    "            \n",
    "            if tar == cur: return value\n",
    "            \n",
    "            vis.add(cur)\n",
    "            \n",
    "            for nxt in graph[cur]:\n",
    "                if nxt not in vis:\n",
    "                    r = helper(nxt,tar,vis, value*d[(cur,nxt)])\n",
    "                    if r is not None: return r\n",
    "            \n",
    "            return None\n",
    "        \n",
    "        ans = []\n",
    "        for cur,tar in queries:\n",
    "            ans.append(helper(cur,tar,set([]),1))\n",
    "        return [_ if _ is not None else -1 for _ in ans ]\n",
    "        "
   ]
  },
  {
   "cell_type": "code",
   "execution_count": 21,
   "metadata": {},
   "outputs": [
    {
     "name": "stdout",
     "output_type": "stream",
     "text": [
      "[6.0, 0.5, -1, 1, -1]\n"
     ]
    }
   ],
   "source": [
    "sol = Solution()\n",
    "print sol.calcEquation(equations = [ [\"a\", \"b\"], [\"b\", \"c\"] ],\n",
    "values = [2.0, 3.0],\n",
    "queries = [ [\"a\", \"c\"], [\"b\", \"a\"], [\"a\", \"e\"], [\"a\", \"a\"], [\"x\", \"x\"] ])"
   ]
  },
  {
   "cell_type": "code",
   "execution_count": null,
   "metadata": {
    "collapsed": true
   },
   "outputs": [],
   "source": []
  }
 ],
 "metadata": {
  "kernelspec": {
   "display_name": "Python 2",
   "language": "python",
   "name": "python2"
  },
  "language_info": {
   "codemirror_mode": {
    "name": "ipython",
    "version": 2
   },
   "file_extension": ".py",
   "mimetype": "text/x-python",
   "name": "python",
   "nbconvert_exporter": "python",
   "pygments_lexer": "ipython2",
   "version": "2.7.13"
  }
 },
 "nbformat": 4,
 "nbformat_minor": 2
}
