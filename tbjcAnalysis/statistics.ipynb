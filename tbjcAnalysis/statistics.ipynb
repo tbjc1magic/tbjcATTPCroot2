{
 "cells": [
  {
   "cell_type": "code",
   "execution_count": 1,
   "metadata": {
    "collapsed": true
   },
   "outputs": [],
   "source": [
    "from sqlalchemy import *\n",
    "import numpy as np\n",
    "import pylab as plt\n",
    "import pandas as pd\n",
    "from peakdetect import peakdetect\n",
    "from scipy.ndimage.interpolation import shift\n",
    "from matplotlib.colors import LogNorm\n",
    "from scipy.interpolate import interp1d\n",
    "from scipy.optimize import newton\n",
    "import peakutils\n",
    "%matplotlib inline"
   ]
  },
  {
   "cell_type": "code",
   "execution_count": 17,
   "metadata": {
    "collapsed": true
   },
   "outputs": [],
   "source": [
    "engine = create_engine('sqlite+pysqlite:///../SQL/72_8.db')"
   ]
  },
  {
   "cell_type": "code",
   "execution_count": 18,
   "metadata": {},
   "outputs": [
    {
     "name": "stdout",
     "output_type": "stream",
     "text": [
      "241.879359007\n"
     ]
    }
   ],
   "source": [
    "import time\n",
    "start_time = time.time()\n",
    "ADCdf = pd.io.sql.read_sql(\"SELECT * FROM ADC\", engine)\n",
    "Hitdf = pd.io.sql.read_sql(\"SELECT * FROM Hit\", engine)\n",
    "PSAdf = pd.io.sql.read_sql(\"SELECT * FROM PSA\", engine)\n",
    "ProtoMapdf = pd.io.sql.read_sql(\"SELECT * FROM ProtoMap\", engine)\n",
    "#RawADCdf = pd.io.sql.read_sql(\"SELECT * FROM RawADC\", engine)\n",
    "end_time = time.time()\n",
    "print end_time-start_time"
   ]
  },
  {
   "cell_type": "code",
   "execution_count": 15,
   "metadata": {},
   "outputs": [
    {
     "name": "stdout",
     "output_type": "stream",
     "text": [
      "8.09784007072\n"
     ]
    }
   ],
   "source": [
    "def Process(Event):\n",
    "    mesh = Event.iloc[:,3:][Event.iloc[:,3:]>20].sum(axis=0)\n",
    "    return mesh\n",
    "start_time = time.time()\n",
    "mesh_df = ADCdf.groupby('EventID').apply(Process)\n",
    "end_time = time.time()\n",
    "print end_time-start_time"
   ]
  },
  {
   "cell_type": "code",
   "execution_count": 16,
   "metadata": {},
   "outputs": [
    {
     "data": {
      "image/png": "[encoded data removed]",
      "text/plain": [
       "<matplotlib.figure.Figure at 0x7f7bc3a051d0>"
      ]
     },
     "metadata": {},
     "output_type": "display_data"
    }
   ],
   "source": [
    "for idx,r in mesh_df.iloc[:100].iterrows():\n",
    "    plt.cla()\n",
    "    r.iloc[1:].plot(legend=None,c=(1,0,0,0.3))\n",
    "    plt.savefig('{:03d}'.format(idx)+\".png\")"
   ]
  },
  {
   "cell_type": "code",
   "execution_count": 85,
   "metadata": {},
   "outputs": [
    {
     "data": {
      "text/plain": [
       "(1928, 512)"
      ]
     },
     "execution_count": 85,
     "metadata": {},
     "output_type": "execute_result"
    }
   ],
   "source": []
  },
  {
   "cell_type": "code",
   "execution_count": null,
   "metadata": {
    "collapsed": true
   },
   "outputs": [],
   "source": []
  }
 ],
 "metadata": {
  "kernelspec": {
   "display_name": "Python 2",
   "language": "python",
   "name": "python2"
  },
  "language_info": {
   "codemirror_mode": {
    "name": "ipython",
    "version": 2
   },
   "file_extension": ".py",
   "mimetype": "text/x-python",
   "name": "python",
   "nbconvert_exporter": "python",
   "pygments_lexer": "ipython2",
   "version": "2.7.13"
  }
 },
 "nbformat": 4,
 "nbformat_minor": 2
}
